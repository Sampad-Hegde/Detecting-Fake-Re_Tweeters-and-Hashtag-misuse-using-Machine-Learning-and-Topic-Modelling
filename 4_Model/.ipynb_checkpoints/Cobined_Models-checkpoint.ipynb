{
 "cells": [
  {
   "cell_type": "markdown",
   "metadata": {},
   "source": [
    "# Models on Combined Features\n",
    "## Data Preparation"
   ]
  },
  {
   "cell_type": "code",
   "execution_count": 1,
   "metadata": {},
   "outputs": [],
   "source": [
    "from Classifier import get_KNN_Model, get_accuracy_matric\n",
    "from Hawkes_Process import get_topic_vector\n",
    "from Topic_Modelling import LDA_main_driver\n",
    "from filters import train_test_splitter\n",
    "import numpy as np\n",
    "import warnings\n",
    "\n",
    "warnings.simplefilter(action='ignore')"
   ]
  },
  {
   "cell_type": "code",
   "execution_count": 2,
   "metadata": {},
   "outputs": [
    {
     "name": "stdout",
     "output_type": "stream",
     "text": [
      "-*-*-*-*-*-*-*-*-*-*-*-*-*-*-*-*-*-*-*-*-*-*-*-*-*-*-*-*-*-*-*-*-*-*-*-*-*-*-*-*-*-*-*-*-*-*-*-* LDA Training Started -*-*-*-*-*-*-*-*-*-*-*-*-*-*-*-*-*-*-*-*-*-*-*-*-*-*-*-*-*-*-*-*-*-*-*-*-*-*-*-*-*-*-*-*-*-*-*-*\n",
      "Topic: 0 Word: 0.013*\"covid\" + 0.010*\"myocarditis\" + 0.009*\"numbers\" + 0.009*\"vaccine\" + 0.009*\"make\" + 0.009*\"please\" + 0.009*\"full\" + 0.009*\"frontline\" + 0.008*\"dont\" + 0.008*\"much\"\n",
      "Topic: 1 Word: 0.015*\"covid19\" + 0.013*\"vaccine\" + 0.013*\"covid\" + 0.013*\"ð\" + 0.013*\"two\" + 0.012*\"fully\" + 0.011*\"positive\" + 0.011*\"johnson\" + 0.011*\"vaccinated\" + 0.009*\"coronavirus\"\n",
      "Topic: 2 Word: 0.023*\"cases\" + 0.021*\"new\" + 0.017*\"uk\" + 0.017*\"since\" + 0.016*\"highest\" + 0.015*\"february\" + 0.015*\"8125\" + 0.015*\"reports\" + 0.014*\"coronavirus\" + 0.014*\"deaths\"\n",
      "Topic: 3 Word: 0.014*\"year\" + 0.013*\"covid\" + 0.012*\"covid19\" + 0.009*\"vaccine\" + 0.009*\"pandemic\" + 0.008*\"world\" + 0.008*\"deaths\" + 0.008*\"coronavirus\" + 0.008*\"one\" + 0.008*\"response\"\n",
      "Topic: 4 Word: 0.013*\"biden\" + 0.013*\"dr\" + 0.013*\"tested\" + 0.010*\"passengers\" + 0.010*\"cruise\" + 0.009*\"positive\" + 0.009*\"people\" + 0.009*\"still\" + 0.008*\"u\" + 0.008*\"covid\"\n",
      "Topic: 5 Word: 0.017*\"fuck\" + 0.014*\"corona\" + 0.012*\"covid\" + 0.010*\"covid19\" + 0.010*\"millions\" + 0.009*\"unemployment\" + 0.008*\"may\" + 0.008*\"closed\" + 0.008*\"americans\" + 0.008*\"died\"\n",
      "Topic: 6 Word: 0.015*\"g7\" + 0.015*\"india\" + 0.013*\"testing\" + 0.012*\"covid19\" + 0.010*\"leaders\" + 0.010*\"summit\" + 0.009*\"positive\" + 0.009*\"doctor\" + 0.009*\"covid\" + 0.009*\"used\"\n",
      "Topic: 7 Word: 0.017*\"people\" + 0.014*\"covid19\" + 0.014*\"data\" + 0.013*\"many\" + 0.012*\"schools\" + 0.011*\"lives\" + 0.011*\"release\" + 0.011*\"treatment\" + 0.010*\"media\" + 0.010*\"could\"\n",
      "Topic: 8 Word: 0.013*\"vaccine\" + 0.013*\"covid\" + 0.012*\"update\" + 0.012*\"covid19\" + 0.011*\"doses\" + 0.010*\"anything\" + 0.009*\"another\" + 0.009*\"10\" + 0.009*\"vaccines\" + 0.008*\"rate\"\n",
      "Topic: 9 Word: 0.027*\"covid\" + 0.017*\"vaccination\" + 0.011*\"new\" + 0.010*\"quarantine\" + 0.008*\"covid19\" + 0.008*\"people\" + 0.008*\"report\" + 0.008*\"reported\" + 0.008*\"something\" + 0.007*\"details\"\n",
      "Topic: 0 Word: 0.149*\"one\" + 0.094*\"go\" + 0.082*\"new\" + 0.080*\"last\" + 0.074*\"song\" + 0.065*\"make\" + 0.061*\"going\" + 0.059*\"covid\" + 0.057*\"coâ\" + 0.045*\"itâs\"\n",
      "Topic: 1 Word: 0.253*\"like\" + 0.170*\"u\" + 0.100*\"time\" + 0.075*\"covid\" + 0.051*\"get\" + 0.027*\"itâs\" + 0.024*\"corona\" + 0.024*\"first\" + 0.008*\"â\" + 0.007*\"use\"\n",
      "Topic: 2 Word: 0.151*\"today\" + 0.132*\"also\" + 0.102*\"first\" + 0.062*\"covid\" + 0.058*\"time\" + 0.042*\"make\" + 0.040*\"g7\" + 0.023*\"year\" + 0.023*\"last\" + 0.018*\"prices\"\n",
      "Topic: 3 Word: 0.064*\"hâ\" + 0.059*\"prices\" + 0.059*\"million\" + 0.058*\"4\" + 0.052*\"22\" + 0.052*\"ceos\" + 0.052*\"mexican\" + 0.052*\"chipotle\" + 0.052*\"bonus\" + 0.052*\"cover\"\n",
      "Topic: 4 Word: 0.205*\"week\" + 0.139*\"time\" + 0.072*\"cost\" + 0.069*\"itâs\" + 0.039*\"day\" + 0.037*\"like\" + 0.026*\"ð\" + 0.013*\"covid\" + 0.011*\"make\" + 0.010*\"oâ\"\n",
      "Topic: 5 Word: 0.095*\"numbers\" + 0.091*\"ð\" + 0.083*\"people\" + 0.063*\"corona\" + 0.052*\"oâ\" + 0.048*\"arriving\" + 0.048*\"crossing\" + 0.048*\"ââââ\" + 0.048*\"seekers\" + 0.048*\"plane\"\n",
      "Topic: 6 Word: 0.191*\"year\" + 0.174*\"get\" + 0.103*\"day\" + 0.100*\"time\" + 0.063*\"first\" + 0.055*\"one\" + 0.030*\"going\" + 0.021*\"â\" + 0.009*\"pls\" + 0.006*\"numbers\"\n",
      "Topic: 7 Word: 0.548*\"covid\" + 0.102*\"help\" + 0.067*\"ð\" + 0.015*\"year\" + 0.007*\"itâs\" + 0.006*\"numbers\" + 0.006*\"hâ\" + 0.006*\"corona\" + 0.005*\"song\" + 0.005*\"guess\"\n",
      "Topic: 8 Word: 0.168*\"â\" + 0.143*\"us\" + 0.137*\"covid19\" + 0.078*\"use\" + 0.073*\"could\" + 0.062*\"pls\" + 0.059*\"fire\" + 0.043*\"johnson\" + 0.040*\"help\" + 0.033*\"one\"\n",
      "Topic: 9 Word: 0.305*\"5\" + 0.116*\"conference\" + 0.055*\"â\" + 0.030*\"year\" + 0.013*\"covid\" + 0.010*\"covid19\" + 0.010*\"one\" + 0.010*\"grill\" + 0.010*\"cover\" + 0.010*\"bonus\"\n",
      "-*-*-*-*-*-*-*-*-*-*-*-*-*-*-*-*-*-*-*-*-*-*-*-*-*-*-*-*-*-*-*-*-*-*-*-*-*-*-*-*-*-*-*-*-*-*-*-* LDA Training Ended -*-*-*-*-*-*-*-*-*-*-*-*-*-*-*-*-*-*-*-*-*-*-*-*-*-*-*-*-*-*-*-*-*-*-*-*-*-*-*-*-*-*-*-*-*-*-*-*\n"
     ]
    }
   ],
   "source": [
    "df, dict_genuine, dict_fake, lda_genuine, lda_fake = LDA_main_driver()\n",
    "num_topics = 10"
   ]
  },
  {
   "cell_type": "code",
   "execution_count": 3,
   "metadata": {},
   "outputs": [
    {
     "name": "stdout",
     "output_type": "stream",
     "text": [
      "*-*-*-*-*-*-*-*-*-*-*-*-*-*-*-*-*-*-*-*-*-*-*-*-*-*-*-*-*-*- Hawkes Process Started *-*-*-*-*-*-*-*-*-*-*-*-*-*-*-*-*-*-*-*-*-*-*-*-*-*-*-*-*-*-\n",
      "*-*-*-*-*-*-*-*-*-*-*-*-*-*-*-*-*-*-*-*-*-*-*-*-*-*-*-*-*-*- Hawkes Process Ended *-*-*-*-*-*-*-*-*-*-*-*-*-*-*-*-*-*-*-*-*-*-*-*-*-*-*-*-*-*-\n"
     ]
    }
   ],
   "source": [
    "user_topic_vectors, labels = get_topic_vector(df, dict_genuine, dict_fake, lda_genuine, lda_fake, 0)"
   ]
  },
  {
   "cell_type": "code",
   "execution_count": 4,
   "metadata": {},
   "outputs": [],
   "source": [
    "total_len = len(user_topic_vectors)\n",
    "X = np.array(user_topic_vectors)\n",
    "Y = np.array(labels)"
   ]
  },
  {
   "cell_type": "code",
   "execution_count": 6,
   "metadata": {},
   "outputs": [],
   "source": [
    "x_train, x_test, y_train, y_test = train_test_splitter(X, Y)"
   ]
  },
  {
   "cell_type": "code",
   "execution_count": 7,
   "metadata": {},
   "outputs": [
    {
     "data": {
      "text/plain": [
       "((1221, 22), (1221,), (306, 22), (306,))"
      ]
     },
     "execution_count": 7,
     "metadata": {},
     "output_type": "execute_result"
    }
   ],
   "source": [
    "x_train.shape, y_train.shape, x_test.shape, y_test.shape"
   ]
  },
  {
   "cell_type": "markdown",
   "metadata": {},
   "source": [
    "##  1. KNN Classifier on Combined Topic Vectors Generated by LDA and Hawkes process\n"
   ]
  },
  {
   "cell_type": "code",
   "execution_count": 8,
   "metadata": {},
   "outputs": [],
   "source": [
    "knn = get_KNN_Model(x_train, y_train)"
   ]
  },
  {
   "cell_type": "code",
   "execution_count": 9,
   "metadata": {},
   "outputs": [],
   "source": [
    "pred = knn.predict(x_test)"
   ]
  },
  {
   "cell_type": "code",
   "execution_count": 10,
   "metadata": {},
   "outputs": [
    {
     "name": "stdout",
     "output_type": "stream",
     "text": [
      "Accuracy: 0.797 Precision: 0.618 Recall: 0.595 F1 Score: 0.603\n"
     ]
    },
    {
     "data": {
      "text/plain": [
       "(0.7973856209150327, 0.6179511278195489, 0.5950181708055724, 0.603428093645485)"
      ]
     },
     "execution_count": 10,
     "metadata": {},
     "output_type": "execute_result"
    }
   ],
   "source": [
    "get_accuracy_matric(pred, y_test, len(y_test))"
   ]
  },
  {
   "cell_type": "markdown",
   "metadata": {},
   "source": [
    "## 2. SVM Classifier on Combined Topic Vectors Generated by LDA and Hawkes process"
   ]
  },
  {
   "cell_type": "code",
   "execution_count": null,
   "metadata": {},
   "outputs": [],
   "source": []
  },
  {
   "cell_type": "code",
   "execution_count": null,
   "metadata": {},
   "outputs": [],
   "source": []
  },
  {
   "cell_type": "code",
   "execution_count": null,
   "metadata": {},
   "outputs": [],
   "source": []
  },
  {
   "cell_type": "code",
   "execution_count": null,
   "metadata": {},
   "outputs": [],
   "source": []
  },
  {
   "cell_type": "markdown",
   "metadata": {},
   "source": [
    "## 3. Naive Bais Classifier on Combined Topic Vectors Generated by LDA and Hawkes process"
   ]
  },
  {
   "cell_type": "code",
   "execution_count": null,
   "metadata": {},
   "outputs": [],
   "source": []
  },
  {
   "cell_type": "code",
   "execution_count": null,
   "metadata": {},
   "outputs": [],
   "source": []
  },
  {
   "cell_type": "code",
   "execution_count": null,
   "metadata": {},
   "outputs": [],
   "source": []
  },
  {
   "cell_type": "code",
   "execution_count": null,
   "metadata": {},
   "outputs": [],
   "source": []
  },
  {
   "cell_type": "markdown",
   "metadata": {},
   "source": [
    "## 4. Nueral Network Classifier on Combined Topic Vectors Generated by LDA and Hawkes process\n",
    "### Fully Connected Network of :\n",
    "     - Input Layer : 22, 64\n",
    "     - Hidden Layer 1 : 64 , 128\n",
    "     - Hidden Layer 2 : 128 , 256\n",
    "     - Hidden Layer 3 : 256 , 512\n",
    "     - Hidden Layer 4 : 512 , 256\n",
    "     - Hidden Layer 5 : 256 , 128\n",
    "     - Hidden Layer 6 : 128 , 64\n",
    "     - Hidden Layer 7 : 64 , 32\n",
    "     - Hidden Layer 8 : 32 , 16\n",
    "     - Output Layer : 16 , 2"
   ]
  },
  {
   "cell_type": "code",
   "execution_count": 11,
   "metadata": {},
   "outputs": [],
   "source": [
    "import torch.nn as nn\n",
    "import warnings\n",
    "import torch"
   ]
  },
  {
   "cell_type": "code",
   "execution_count": 13,
   "metadata": {},
   "outputs": [],
   "source": [
    "def get_Device():\n",
    "    return torch.device('cuda' if torch.cuda.is_available() else 'cpu')"
   ]
  },
  {
   "cell_type": "code",
   "execution_count": 14,
   "metadata": {},
   "outputs": [
    {
     "name": "stdout",
     "output_type": "stream",
     "text": [
      "cuda\n"
     ]
    }
   ],
   "source": [
    "device = get_Device()\n",
    "print(device)"
   ]
  },
  {
   "cell_type": "code",
   "execution_count": 15,
   "metadata": {},
   "outputs": [],
   "source": [
    "x_train = torch.Tensor(x_train).to(device)\n",
    "y_train = torch.Tensor(y_train).to(device)\n",
    "x_test = torch.Tensor(x_test).to(device)\n",
    "y_test = torch.Tensor(y_test).to(device)\n",
    "y_train = y_train.to(torch.long)"
   ]
  },
  {
   "cell_type": "code",
   "execution_count": 16,
   "metadata": {},
   "outputs": [],
   "source": [
    "y_train = y_train.to(torch.long)"
   ]
  },
  {
   "cell_type": "code",
   "execution_count": 17,
   "metadata": {},
   "outputs": [],
   "source": [
    "class NeuralNetworkClassifierModel(nn.Module):\n",
    "    def __init__(self, input_size, output_size):\n",
    "        super(NeuralNetworkClassifierModel, self).__init__()\n",
    "        self.layer1 = nn.Linear(input_size, 64)\n",
    "        self.layer2 = nn.Linear(64, 128)\n",
    "        self.layer3 = nn.Linear(128, 256)\n",
    "        self.layer4 = nn.Linear(256, 512)\n",
    "        self.layer5 = nn.Linear(512, 256)\n",
    "        \n",
    "        self.layer6 = nn.Linear(256, 128)\n",
    "        self.layer7 = nn.Linear(128, 64)\n",
    "        self.layer8 = nn.Linear(64, 32)\n",
    "        self.layer9 = nn.Linear(32, 16)\n",
    "        self.layer10 = nn.Linear(16, output_size)\n",
    "        self.relu = nn.ReLU()\n",
    "        \n",
    "\n",
    "    def forward(self, inputs):\n",
    "        out = self.layer1(inputs)\n",
    "        out = self.relu(out)\n",
    "        \n",
    "        out = self.layer2(out)\n",
    "        out = self.relu(out)\n",
    "        \n",
    "        out = self.layer3(out)\n",
    "        out = self.relu(out)\n",
    "        \n",
    "        out = self.layer4(out)\n",
    "        out = self.relu(out)\n",
    "        \n",
    "        out = self.layer5(out)\n",
    "        out = self.relu(out)\n",
    "        \n",
    "        out = self.layer6(out)\n",
    "        out = self.relu(out)\n",
    "        \n",
    "        out = self.layer7(out)\n",
    "        out = self.relu(out)\n",
    "        \n",
    "        out = self.layer8(out)\n",
    "        out = self.relu(out)\n",
    "        \n",
    "        out = self.layer9(out)\n",
    "        out = self.relu(out)\n",
    "        \n",
    "        out = self.layer10(out)\n",
    "        \n",
    "        return out"
   ]
  },
  {
   "cell_type": "code",
   "execution_count": 18,
   "metadata": {},
   "outputs": [],
   "source": [
    "input_size = 22\n",
    "output_size = 2\n",
    "hidden_size = 80\n",
    "learning_rate = 0.0001\n",
    "n_epochs = 500"
   ]
  },
  {
   "cell_type": "code",
   "execution_count": 19,
   "metadata": {},
   "outputs": [
    {
     "data": {
      "text/plain": [
       "NeuralNetworkClassifierModel(\n",
       "  (layer1): Linear(in_features=22, out_features=64, bias=True)\n",
       "  (layer2): Linear(in_features=64, out_features=128, bias=True)\n",
       "  (layer3): Linear(in_features=128, out_features=256, bias=True)\n",
       "  (layer4): Linear(in_features=256, out_features=512, bias=True)\n",
       "  (layer5): Linear(in_features=512, out_features=256, bias=True)\n",
       "  (layer6): Linear(in_features=256, out_features=128, bias=True)\n",
       "  (layer7): Linear(in_features=128, out_features=64, bias=True)\n",
       "  (layer8): Linear(in_features=64, out_features=32, bias=True)\n",
       "  (layer9): Linear(in_features=32, out_features=16, bias=True)\n",
       "  (layer10): Linear(in_features=16, out_features=2, bias=True)\n",
       "  (relu): ReLU()\n",
       ")"
      ]
     },
     "execution_count": 19,
     "metadata": {},
     "output_type": "execute_result"
    }
   ],
   "source": [
    "model = NeuralNetworkClassifierModel(input_size=input_size,\n",
    "                                     output_size=output_size)\n",
    "model.to(device)"
   ]
  },
  {
   "cell_type": "code",
   "execution_count": 20,
   "metadata": {},
   "outputs": [],
   "source": [
    "lossfn = torch.nn.CrossEntropyLoss()\n",
    "lossfn.to(device)\n",
    "optimizer = torch.optim.Adam(model.parameters(), lr=learning_rate)"
   ]
  },
  {
   "cell_type": "code",
   "execution_count": 21,
   "metadata": {},
   "outputs": [],
   "source": [
    "def Validator(x_test, y_test):\n",
    "    predicted = model(x_test).to(device)\n",
    "    pred = torch.max(predicted.data,1)[1]\n",
    "    total_test = len(y_test)\n",
    "    correct_pred = 0\n",
    "\n",
    "    for i in range(total_test):\n",
    "        if y_test[i] == pred[i]:\n",
    "            correct_pred += 1\n",
    "\n",
    "    return correct_pred/total_test"
   ]
  },
  {
   "cell_type": "code",
   "execution_count": 22,
   "metadata": {},
   "outputs": [
    {
     "name": "stdout",
     "output_type": "stream",
     "text": [
      "Epoch [ 1 / 500 ] Training-Loss = 0.7679 Training-Accuracy = 0.23213732242584229 Validation-Accuracy = 0.13071895424836602\n",
      "Epoch [ 2 / 500 ] Training-Loss = 0.7675 Training-Accuracy = 0.23246866464614868 Validation-Accuracy = 0.13071895424836602\n",
      "Epoch [ 3 / 500 ] Training-Loss = 0.7672 Training-Accuracy = 0.23279768228530884 Validation-Accuracy = 0.13071895424836602\n",
      "Epoch [ 4 / 500 ] Training-Loss = 0.7669 Training-Accuracy = 0.2331271767616272 Validation-Accuracy = 0.13071895424836602\n",
      "Epoch [ 5 / 500 ] Training-Loss = 0.7665 Training-Accuracy = 0.23350560665130615 Validation-Accuracy = 0.13071895424836602\n",
      "Epoch [ 6 / 500 ] Training-Loss = 0.7661 Training-Accuracy = 0.2339310646057129 Validation-Accuracy = 0.13071895424836602\n",
      "Epoch [ 7 / 500 ] Training-Loss = 0.7656 Training-Accuracy = 0.23437249660491943 Validation-Accuracy = 0.13071895424836602\n",
      "Epoch [ 8 / 500 ] Training-Loss = 0.7652 Training-Accuracy = 0.23483455181121826 Validation-Accuracy = 0.13071895424836602\n",
      "Epoch [ 9 / 500 ] Training-Loss = 0.7647 Training-Accuracy = 0.23530912399291992 Validation-Accuracy = 0.13071895424836602\n",
      "Epoch [ 10 / 500 ] Training-Loss = 0.7642 Training-Accuracy = 0.2357923984527588 Validation-Accuracy = 0.13071895424836602\n",
      "Epoch [ 11 / 500 ] Training-Loss = 0.7637 Training-Accuracy = 0.23628473281860352 Validation-Accuracy = 0.13071895424836602\n",
      "Epoch [ 12 / 500 ] Training-Loss = 0.7632 Training-Accuracy = 0.23678278923034668 Validation-Accuracy = 0.13071895424836602\n",
      "Epoch [ 13 / 500 ] Training-Loss = 0.7627 Training-Accuracy = 0.2372862696647644 Validation-Accuracy = 0.13071895424836602\n",
      "Epoch [ 14 / 500 ] Training-Loss = 0.7622 Training-Accuracy = 0.2377977967262268 Validation-Accuracy = 0.13071895424836602\n",
      "Epoch [ 15 / 500 ] Training-Loss = 0.7617 Training-Accuracy = 0.2383165955543518 Validation-Accuracy = 0.13071895424836602\n",
      "Epoch [ 16 / 500 ] Training-Loss = 0.7612 Training-Accuracy = 0.2388448715209961 Validation-Accuracy = 0.13071895424836602\n",
      "Epoch [ 17 / 500 ] Training-Loss = 0.7606 Training-Accuracy = 0.23938119411468506 Validation-Accuracy = 0.13071895424836602\n",
      "Epoch [ 18 / 500 ] Training-Loss = 0.7601 Training-Accuracy = 0.23992639780044556 Validation-Accuracy = 0.13071895424836602\n",
      "Epoch [ 19 / 500 ] Training-Loss = 0.7595 Training-Accuracy = 0.24048829078674316 Validation-Accuracy = 0.13071895424836602\n",
      "Epoch [ 20 / 500 ] Training-Loss = 0.7589 Training-Accuracy = 0.2410738468170166 Validation-Accuracy = 0.13071895424836602\n",
      "Epoch [ 21 / 500 ] Training-Loss = 0.7583 Training-Accuracy = 0.24168258905410767 Validation-Accuracy = 0.13071895424836602\n",
      "Epoch [ 22 / 500 ] Training-Loss = 0.7577 Training-Accuracy = 0.24231493473052979 Validation-Accuracy = 0.13071895424836602\n",
      "Epoch [ 23 / 500 ] Training-Loss = 0.7570 Training-Accuracy = 0.24297118186950684 Validation-Accuracy = 0.13071895424836602\n",
      "Epoch [ 24 / 500 ] Training-Loss = 0.7563 Training-Accuracy = 0.243657648563385 Validation-Accuracy = 0.13071895424836602\n",
      "Epoch [ 25 / 500 ] Training-Loss = 0.7556 Training-Accuracy = 0.24437183141708374 Validation-Accuracy = 0.13071895424836602\n",
      "Epoch [ 26 / 500 ] Training-Loss = 0.7549 Training-Accuracy = 0.24509644508361816 Validation-Accuracy = 0.13071895424836602\n",
      "Epoch [ 27 / 500 ] Training-Loss = 0.7542 Training-Accuracy = 0.24579328298568726 Validation-Accuracy = 0.13071895424836602\n",
      "Epoch [ 28 / 500 ] Training-Loss = 0.7535 Training-Accuracy = 0.24648737907409668 Validation-Accuracy = 0.13071895424836602\n",
      "Epoch [ 29 / 500 ] Training-Loss = 0.7528 Training-Accuracy = 0.24719774723052979 Validation-Accuracy = 0.13071895424836602\n",
      "Epoch [ 30 / 500 ] Training-Loss = 0.7521 Training-Accuracy = 0.2479199767112732 Validation-Accuracy = 0.13071895424836602\n",
      "Epoch [ 31 / 500 ] Training-Loss = 0.7513 Training-Accuracy = 0.24865055084228516 Validation-Accuracy = 0.13071895424836602\n",
      "Epoch [ 32 / 500 ] Training-Loss = 0.7506 Training-Accuracy = 0.24940180778503418 Validation-Accuracy = 0.13071895424836602\n",
      "Epoch [ 33 / 500 ] Training-Loss = 0.7498 Training-Accuracy = 0.25018322467803955 Validation-Accuracy = 0.13071895424836602\n",
      "Epoch [ 34 / 500 ] Training-Loss = 0.7490 Training-Accuracy = 0.2509917616844177 Validation-Accuracy = 0.13071895424836602\n",
      "Epoch [ 35 / 500 ] Training-Loss = 0.7482 Training-Accuracy = 0.2518036961555481 Validation-Accuracy = 0.13071895424836602\n",
      "Epoch [ 36 / 500 ] Training-Loss = 0.7474 Training-Accuracy = 0.2526189684867859 Validation-Accuracy = 0.13071895424836602\n",
      "Epoch [ 37 / 500 ] Training-Loss = 0.7466 Training-Accuracy = 0.253437340259552 Validation-Accuracy = 0.13071895424836602\n",
      "Epoch [ 38 / 500 ] Training-Loss = 0.7457 Training-Accuracy = 0.2542584538459778 Validation-Accuracy = 0.13071895424836602\n",
      "Epoch [ 39 / 500 ] Training-Loss = 0.7449 Training-Accuracy = 0.2550836205482483 Validation-Accuracy = 0.13071895424836602\n",
      "Epoch [ 40 / 500 ] Training-Loss = 0.7441 Training-Accuracy = 0.2559090852737427 Validation-Accuracy = 0.13071895424836602\n",
      "Epoch [ 41 / 500 ] Training-Loss = 0.7432 Training-Accuracy = 0.25675106048583984 Validation-Accuracy = 0.13071895424836602\n",
      "Epoch [ 42 / 500 ] Training-Loss = 0.7424 Training-Accuracy = 0.25762492418289185 Validation-Accuracy = 0.13071895424836602\n",
      "Epoch [ 43 / 500 ] Training-Loss = 0.7415 Training-Accuracy = 0.2585466504096985 Validation-Accuracy = 0.13071895424836602\n",
      "Epoch [ 44 / 500 ] Training-Loss = 0.7405 Training-Accuracy = 0.2595241665840149 Validation-Accuracy = 0.13071895424836602\n",
      "Epoch [ 45 / 500 ] Training-Loss = 0.7394 Training-Accuracy = 0.26055675745010376 Validation-Accuracy = 0.13071895424836602\n",
      "Epoch [ 46 / 500 ] Training-Loss = 0.7384 Training-Accuracy = 0.2616475224494934 Validation-Accuracy = 0.13071895424836602\n",
      "Epoch [ 47 / 500 ] Training-Loss = 0.7372 Training-Accuracy = 0.2628180980682373 Validation-Accuracy = 0.13071895424836602\n",
      "Epoch [ 48 / 500 ] Training-Loss = 0.7359 Training-Accuracy = 0.2640841603279114 Validation-Accuracy = 0.13071895424836602\n",
      "Epoch [ 49 / 500 ] Training-Loss = 0.7345 Training-Accuracy = 0.2654705047607422 Validation-Accuracy = 0.13071895424836602\n",
      "Epoch [ 50 / 500 ] Training-Loss = 0.7330 Training-Accuracy = 0.2669888734817505 Validation-Accuracy = 0.13071895424836602\n",
      "Epoch [ 51 / 500 ] Training-Loss = 0.7313 Training-Accuracy = 0.2686619162559509 Validation-Accuracy = 0.13071895424836602\n",
      "Epoch [ 52 / 500 ] Training-Loss = 0.7295 Training-Accuracy = 0.27050381898880005 Validation-Accuracy = 0.13071895424836602\n",
      "Epoch [ 53 / 500 ] Training-Loss = 0.7275 Training-Accuracy = 0.27253401279449463 Validation-Accuracy = 0.13071895424836602\n",
      "Epoch [ 54 / 500 ] Training-Loss = 0.7252 Training-Accuracy = 0.2747592329978943 Validation-Accuracy = 0.13071895424836602\n",
      "Epoch [ 55 / 500 ] Training-Loss = 0.7228 Training-Accuracy = 0.27721863985061646 Validation-Accuracy = 0.13071895424836602\n",
      "Epoch [ 56 / 500 ] Training-Loss = 0.7201 Training-Accuracy = 0.27994275093078613 Validation-Accuracy = 0.13071895424836602\n",
      "Epoch [ 57 / 500 ] Training-Loss = 0.7170 Training-Accuracy = 0.2829729914665222 Validation-Accuracy = 0.13071895424836602\n",
      "Epoch [ 58 / 500 ] Training-Loss = 0.7136 Training-Accuracy = 0.2863566279411316 Validation-Accuracy = 0.12745098039215685\n",
      "Epoch [ 59 / 500 ] Training-Loss = 0.7099 Training-Accuracy = 0.29006099700927734 Validation-Accuracy = 0.13725490196078433\n",
      "Epoch [ 60 / 500 ] Training-Loss = 0.7059 Training-Accuracy = 0.29407042264938354 Validation-Accuracy = 0.1895424836601307\n",
      "Epoch [ 61 / 500 ] Training-Loss = 0.7016 Training-Accuracy = 0.298376202583313 Validation-Accuracy = 0.29411764705882354\n",
      "Epoch [ 62 / 500 ] Training-Loss = 0.6971 Training-Accuracy = 0.3028651475906372 Validation-Accuracy = 0.5163398692810458\n",
      "Epoch [ 63 / 500 ] Training-Loss = 0.6924 Training-Accuracy = 0.3076241612434387 Validation-Accuracy = 0.7745098039215687\n",
      "Epoch [ 64 / 500 ] Training-Loss = 0.6873 Training-Accuracy = 0.3127337098121643 Validation-Accuracy = 0.8496732026143791\n",
      "Epoch [ 65 / 500 ] Training-Loss = 0.6817 Training-Accuracy = 0.31831228733062744 Validation-Accuracy = 0.8627450980392157\n",
      "Epoch [ 66 / 500 ] Training-Loss = 0.6755 Training-Accuracy = 0.32446712255477905 Validation-Accuracy = 0.869281045751634\n",
      "Epoch [ 67 / 500 ] Training-Loss = 0.6687 Training-Accuracy = 0.33127665519714355 Validation-Accuracy = 0.869281045751634\n",
      "Epoch [ 68 / 500 ] Training-Loss = 0.6613 Training-Accuracy = 0.3387361764907837 Validation-Accuracy = 0.869281045751634\n",
      "Epoch [ 69 / 500 ] Training-Loss = 0.6531 Training-Accuracy = 0.34693050384521484 Validation-Accuracy = 0.869281045751634\n",
      "Epoch [ 70 / 500 ] Training-Loss = 0.6441 Training-Accuracy = 0.3558614253997803 Validation-Accuracy = 0.869281045751634\n",
      "Epoch [ 71 / 500 ] Training-Loss = 0.6345 Training-Accuracy = 0.36552131175994873 Validation-Accuracy = 0.869281045751634\n",
      "Epoch [ 72 / 500 ] Training-Loss = 0.6241 Training-Accuracy = 0.3758575916290283 Validation-Accuracy = 0.869281045751634\n"
     ]
    },
    {
     "name": "stdout",
     "output_type": "stream",
     "text": [
      "Epoch [ 73 / 500 ] Training-Loss = 0.6132 Training-Accuracy = 0.3868315815925598 Validation-Accuracy = 0.869281045751634\n",
      "Epoch [ 74 / 500 ] Training-Loss = 0.6016 Training-Accuracy = 0.39842504262924194 Validation-Accuracy = 0.869281045751634\n",
      "Epoch [ 75 / 500 ] Training-Loss = 0.5894 Training-Accuracy = 0.4106462597846985 Validation-Accuracy = 0.869281045751634\n",
      "Epoch [ 76 / 500 ] Training-Loss = 0.5766 Training-Accuracy = 0.4233846664428711 Validation-Accuracy = 0.869281045751634\n",
      "Epoch [ 77 / 500 ] Training-Loss = 0.5635 Training-Accuracy = 0.43649834394454956 Validation-Accuracy = 0.869281045751634\n",
      "Epoch [ 78 / 500 ] Training-Loss = 0.5501 Training-Accuracy = 0.4499022960662842 Validation-Accuracy = 0.869281045751634\n",
      "Epoch [ 79 / 500 ] Training-Loss = 0.5360 Training-Accuracy = 0.46402883529663086 Validation-Accuracy = 0.869281045751634\n",
      "Epoch [ 80 / 500 ] Training-Loss = 0.5211 Training-Accuracy = 0.47891342639923096 Validation-Accuracy = 0.869281045751634\n",
      "Epoch [ 81 / 500 ] Training-Loss = 0.5064 Training-Accuracy = 0.4936402440071106 Validation-Accuracy = 0.869281045751634\n",
      "Epoch [ 82 / 500 ] Training-Loss = 0.4922 Training-Accuracy = 0.5078015029430389 Validation-Accuracy = 0.869281045751634\n",
      "Epoch [ 83 / 500 ] Training-Loss = 0.4790 Training-Accuracy = 0.520994633436203 Validation-Accuracy = 0.869281045751634\n",
      "Epoch [ 84 / 500 ] Training-Loss = 0.4672 Training-Accuracy = 0.5327814817428589 Validation-Accuracy = 0.869281045751634\n",
      "Epoch [ 85 / 500 ] Training-Loss = 0.4573 Training-Accuracy = 0.5427009761333466 Validation-Accuracy = 0.869281045751634\n",
      "Epoch [ 86 / 500 ] Training-Loss = 0.4497 Training-Accuracy = 0.5503380000591278 Validation-Accuracy = 0.869281045751634\n",
      "Epoch [ 87 / 500 ] Training-Loss = 0.4446 Training-Accuracy = 0.5553886890411377 Validation-Accuracy = 0.869281045751634\n",
      "Epoch [ 88 / 500 ] Training-Loss = 0.4423 Training-Accuracy = 0.5577475130558014 Validation-Accuracy = 0.869281045751634\n",
      "Epoch [ 89 / 500 ] Training-Loss = 0.4424 Training-Accuracy = 0.5575906932353973 Validation-Accuracy = 0.869281045751634\n",
      "Epoch [ 90 / 500 ] Training-Loss = 0.4446 Training-Accuracy = 0.5554268658161163 Validation-Accuracy = 0.869281045751634\n",
      "Epoch [ 91 / 500 ] Training-Loss = 0.4479 Training-Accuracy = 0.5520525872707367 Validation-Accuracy = 0.869281045751634\n",
      "Epoch [ 92 / 500 ] Training-Loss = 0.4516 Training-Accuracy = 0.5484326183795929 Validation-Accuracy = 0.869281045751634\n",
      "Epoch [ 93 / 500 ] Training-Loss = 0.4546 Training-Accuracy = 0.5454117655754089 Validation-Accuracy = 0.869281045751634\n",
      "Epoch [ 94 / 500 ] Training-Loss = 0.4565 Training-Accuracy = 0.5435257256031036 Validation-Accuracy = 0.869281045751634\n",
      "Epoch [ 95 / 500 ] Training-Loss = 0.4570 Training-Accuracy = 0.5429880917072296 Validation-Accuracy = 0.869281045751634\n",
      "Epoch [ 96 / 500 ] Training-Loss = 0.4563 Training-Accuracy = 0.5437237620353699 Validation-Accuracy = 0.869281045751634\n",
      "Epoch [ 97 / 500 ] Training-Loss = 0.4546 Training-Accuracy = 0.5454491376876831 Validation-Accuracy = 0.869281045751634\n",
      "Epoch [ 98 / 500 ] Training-Loss = 0.4522 Training-Accuracy = 0.5478233098983765 Validation-Accuracy = 0.869281045751634\n",
      "Epoch [ 99 / 500 ] Training-Loss = 0.4496 Training-Accuracy = 0.550444483757019 Validation-Accuracy = 0.869281045751634\n",
      "Epoch [ 100 / 500 ] Training-Loss = 0.4470 Training-Accuracy = 0.552987277507782 Validation-Accuracy = 0.869281045751634\n",
      "Epoch [ 101 / 500 ] Training-Loss = 0.4448 Training-Accuracy = 0.5552043616771698 Validation-Accuracy = 0.869281045751634\n",
      "Epoch [ 102 / 500 ] Training-Loss = 0.4431 Training-Accuracy = 0.5569404661655426 Validation-Accuracy = 0.869281045751634\n",
      "Epoch [ 103 / 500 ] Training-Loss = 0.4419 Training-Accuracy = 0.558136373758316 Validation-Accuracy = 0.869281045751634\n",
      "Epoch [ 104 / 500 ] Training-Loss = 0.4412 Training-Accuracy = 0.5588130056858063 Validation-Accuracy = 0.869281045751634\n",
      "Epoch [ 105 / 500 ] Training-Loss = 0.4410 Training-Accuracy = 0.559044599533081 Validation-Accuracy = 0.869281045751634\n",
      "Epoch [ 106 / 500 ] Training-Loss = 0.4411 Training-Accuracy = 0.5589397549629211 Validation-Accuracy = 0.869281045751634\n",
      "Epoch [ 107 / 500 ] Training-Loss = 0.4414 Training-Accuracy = 0.5586206316947937 Validation-Accuracy = 0.869281045751634\n",
      "Epoch [ 108 / 500 ] Training-Loss = 0.4418 Training-Accuracy = 0.5582047402858734 Validation-Accuracy = 0.869281045751634\n",
      "Epoch [ 109 / 500 ] Training-Loss = 0.4422 Training-Accuracy = 0.5577920377254486 Validation-Accuracy = 0.869281045751634\n",
      "Epoch [ 110 / 500 ] Training-Loss = 0.4425 Training-Accuracy = 0.5574587881565094 Validation-Accuracy = 0.869281045751634\n",
      "Epoch [ 111 / 500 ] Training-Loss = 0.4427 Training-Accuracy = 0.5572540163993835 Validation-Accuracy = 0.869281045751634\n",
      "Epoch [ 112 / 500 ] Training-Loss = 0.4428 Training-Accuracy = 0.5572009980678558 Validation-Accuracy = 0.869281045751634\n",
      "Epoch [ 113 / 500 ] Training-Loss = 0.4427 Training-Accuracy = 0.557299017906189 Validation-Accuracy = 0.869281045751634\n",
      "Epoch [ 114 / 500 ] Training-Loss = 0.4425 Training-Accuracy = 0.557532399892807 Validation-Accuracy = 0.869281045751634\n",
      "Epoch [ 115 / 500 ] Training-Loss = 0.4421 Training-Accuracy = 0.5578727126121521 Validation-Accuracy = 0.869281045751634\n",
      "Epoch [ 116 / 500 ] Training-Loss = 0.4417 Training-Accuracy = 0.5582822859287262 Validation-Accuracy = 0.869281045751634\n",
      "Epoch [ 117 / 500 ] Training-Loss = 0.4413 Training-Accuracy = 0.5587224662303925 Validation-Accuracy = 0.869281045751634\n",
      "Epoch [ 118 / 500 ] Training-Loss = 0.4408 Training-Accuracy = 0.559154212474823 Validation-Accuracy = 0.869281045751634\n",
      "Epoch [ 119 / 500 ] Training-Loss = 0.4405 Training-Accuracy = 0.5595436096191406 Validation-Accuracy = 0.869281045751634\n",
      "Epoch [ 120 / 500 ] Training-Loss = 0.4401 Training-Accuracy = 0.5598695874214172 Validation-Accuracy = 0.869281045751634\n",
      "Epoch [ 121 / 500 ] Training-Loss = 0.4399 Training-Accuracy = 0.5601192712783813 Validation-Accuracy = 0.869281045751634\n",
      "Epoch [ 122 / 500 ] Training-Loss = 0.4397 Training-Accuracy = 0.560291200876236 Validation-Accuracy = 0.869281045751634\n",
      "Epoch [ 123 / 500 ] Training-Loss = 0.4396 Training-Accuracy = 0.5603926181793213 Validation-Accuracy = 0.869281045751634\n",
      "Epoch [ 124 / 500 ] Training-Loss = 0.4396 Training-Accuracy = 0.560436487197876 Validation-Accuracy = 0.869281045751634\n",
      "Epoch [ 125 / 500 ] Training-Loss = 0.4396 Training-Accuracy = 0.560441642999649 Validation-Accuracy = 0.869281045751634\n",
      "Epoch [ 126 / 500 ] Training-Loss = 0.4396 Training-Accuracy = 0.5604313611984253 Validation-Accuracy = 0.869281045751634\n",
      "Epoch [ 127 / 500 ] Training-Loss = 0.4396 Training-Accuracy = 0.5604251623153687 Validation-Accuracy = 0.869281045751634\n",
      "Epoch [ 128 / 500 ] Training-Loss = 0.4396 Training-Accuracy = 0.5604352951049805 Validation-Accuracy = 0.869281045751634\n",
      "Epoch [ 129 / 500 ] Training-Loss = 0.4395 Training-Accuracy = 0.5604747533798218 Validation-Accuracy = 0.869281045751634\n",
      "Epoch [ 130 / 500 ] Training-Loss = 0.4395 Training-Accuracy = 0.5605489611625671 Validation-Accuracy = 0.869281045751634\n",
      "Epoch [ 131 / 500 ] Training-Loss = 0.4393 Training-Accuracy = 0.5606555342674255 Validation-Accuracy = 0.869281045751634\n",
      "Epoch [ 132 / 500 ] Training-Loss = 0.4392 Training-Accuracy = 0.5607870519161224 Validation-Accuracy = 0.869281045751634\n",
      "Epoch [ 133 / 500 ] Training-Loss = 0.4391 Training-Accuracy = 0.5609352886676788 Validation-Accuracy = 0.869281045751634\n",
      "Epoch [ 134 / 500 ] Training-Loss = 0.4389 Training-Accuracy = 0.561088889837265 Validation-Accuracy = 0.869281045751634\n",
      "Epoch [ 135 / 500 ] Training-Loss = 0.4388 Training-Accuracy = 0.5612395107746124 Validation-Accuracy = 0.869281045751634\n",
      "Epoch [ 136 / 500 ] Training-Loss = 0.4386 Training-Accuracy = 0.5613806843757629 Validation-Accuracy = 0.869281045751634\n",
      "Epoch [ 137 / 500 ] Training-Loss = 0.4385 Training-Accuracy = 0.5615070462226868 Validation-Accuracy = 0.869281045751634\n",
      "Epoch [ 138 / 500 ] Training-Loss = 0.4384 Training-Accuracy = 0.5616174638271332 Validation-Accuracy = 0.869281045751634\n",
      "Epoch [ 139 / 500 ] Training-Loss = 0.4383 Training-Accuracy = 0.5617120563983917 Validation-Accuracy = 0.869281045751634\n",
      "Epoch [ 140 / 500 ] Training-Loss = 0.4382 Training-Accuracy = 0.5617935657501221 Validation-Accuracy = 0.869281045751634\n",
      "Epoch [ 141 / 500 ] Training-Loss = 0.4381 Training-Accuracy = 0.5618675947189331 Validation-Accuracy = 0.869281045751634\n"
     ]
    },
    {
     "name": "stdout",
     "output_type": "stream",
     "text": [
      "Epoch [ 142 / 500 ] Training-Loss = 0.4381 Training-Accuracy = 0.5619398951530457 Validation-Accuracy = 0.869281045751634\n",
      "Epoch [ 143 / 500 ] Training-Loss = 0.4380 Training-Accuracy = 0.5620149075984955 Validation-Accuracy = 0.869281045751634\n",
      "Epoch [ 144 / 500 ] Training-Loss = 0.4379 Training-Accuracy = 0.5620939135551453 Validation-Accuracy = 0.869281045751634\n",
      "Epoch [ 145 / 500 ] Training-Loss = 0.4378 Training-Accuracy = 0.5621797740459442 Validation-Accuracy = 0.869281045751634\n",
      "Epoch [ 146 / 500 ] Training-Loss = 0.4377 Training-Accuracy = 0.5622715651988983 Validation-Accuracy = 0.869281045751634\n",
      "Epoch [ 147 / 500 ] Training-Loss = 0.4376 Training-Accuracy = 0.5623672902584076 Validation-Accuracy = 0.869281045751634\n",
      "Epoch [ 148 / 500 ] Training-Loss = 0.4375 Training-Accuracy = 0.5624663531780243 Validation-Accuracy = 0.869281045751634\n",
      "Epoch [ 149 / 500 ] Training-Loss = 0.4374 Training-Accuracy = 0.5625686347484589 Validation-Accuracy = 0.869281045751634\n",
      "Epoch [ 150 / 500 ] Training-Loss = 0.4373 Training-Accuracy = 0.5626698136329651 Validation-Accuracy = 0.869281045751634\n",
      "Epoch [ 151 / 500 ] Training-Loss = 0.4372 Training-Accuracy = 0.5627685785293579 Validation-Accuracy = 0.869281045751634\n",
      "Epoch [ 152 / 500 ] Training-Loss = 0.4371 Training-Accuracy = 0.5628631114959717 Validation-Accuracy = 0.869281045751634\n",
      "Epoch [ 153 / 500 ] Training-Loss = 0.4370 Training-Accuracy = 0.5629541873931885 Validation-Accuracy = 0.869281045751634\n",
      "Epoch [ 154 / 500 ] Training-Loss = 0.4370 Training-Accuracy = 0.5630423128604889 Validation-Accuracy = 0.869281045751634\n",
      "Epoch [ 155 / 500 ] Training-Loss = 0.4369 Training-Accuracy = 0.5631297826766968 Validation-Accuracy = 0.869281045751634\n",
      "Epoch [ 156 / 500 ] Training-Loss = 0.4368 Training-Accuracy = 0.5632167756557465 Validation-Accuracy = 0.869281045751634\n",
      "Epoch [ 157 / 500 ] Training-Loss = 0.4367 Training-Accuracy = 0.563304603099823 Validation-Accuracy = 0.869281045751634\n",
      "Epoch [ 158 / 500 ] Training-Loss = 0.4366 Training-Accuracy = 0.5633941292762756 Validation-Accuracy = 0.869281045751634\n",
      "Epoch [ 159 / 500 ] Training-Loss = 0.4365 Training-Accuracy = 0.5634854137897491 Validation-Accuracy = 0.869281045751634\n",
      "Epoch [ 160 / 500 ] Training-Loss = 0.4364 Training-Accuracy = 0.5635782778263092 Validation-Accuracy = 0.869281045751634\n",
      "Epoch [ 161 / 500 ] Training-Loss = 0.4363 Training-Accuracy = 0.5636728703975677 Validation-Accuracy = 0.869281045751634\n",
      "Epoch [ 162 / 500 ] Training-Loss = 0.4362 Training-Accuracy = 0.5637679398059845 Validation-Accuracy = 0.869281045751634\n",
      "Epoch [ 163 / 500 ] Training-Loss = 0.4361 Training-Accuracy = 0.5638633668422699 Validation-Accuracy = 0.869281045751634\n",
      "Epoch [ 164 / 500 ] Training-Loss = 0.4360 Training-Accuracy = 0.5639602541923523 Validation-Accuracy = 0.869281045751634\n",
      "Epoch [ 165 / 500 ] Training-Loss = 0.4359 Training-Accuracy = 0.5640593767166138 Validation-Accuracy = 0.869281045751634\n",
      "Epoch [ 166 / 500 ] Training-Loss = 0.4358 Training-Accuracy = 0.564160943031311 Validation-Accuracy = 0.869281045751634\n",
      "Epoch [ 167 / 500 ] Training-Loss = 0.4357 Training-Accuracy = 0.5642629563808441 Validation-Accuracy = 0.869281045751634\n",
      "Epoch [ 168 / 500 ] Training-Loss = 0.4356 Training-Accuracy = 0.5643649399280548 Validation-Accuracy = 0.869281045751634\n",
      "Epoch [ 169 / 500 ] Training-Loss = 0.4355 Training-Accuracy = 0.5644676685333252 Validation-Accuracy = 0.869281045751634\n",
      "Epoch [ 170 / 500 ] Training-Loss = 0.4354 Training-Accuracy = 0.5645720362663269 Validation-Accuracy = 0.869281045751634\n",
      "Epoch [ 171 / 500 ] Training-Loss = 0.4353 Training-Accuracy = 0.5646771192550659 Validation-Accuracy = 0.869281045751634\n",
      "Epoch [ 172 / 500 ] Training-Loss = 0.4352 Training-Accuracy = 0.5647848546504974 Validation-Accuracy = 0.869281045751634\n",
      "Epoch [ 173 / 500 ] Training-Loss = 0.4351 Training-Accuracy = 0.5648939609527588 Validation-Accuracy = 0.869281045751634\n",
      "Epoch [ 174 / 500 ] Training-Loss = 0.4350 Training-Accuracy = 0.5650027990341187 Validation-Accuracy = 0.869281045751634\n",
      "Epoch [ 175 / 500 ] Training-Loss = 0.4349 Training-Accuracy = 0.5651121735572815 Validation-Accuracy = 0.869281045751634\n",
      "Epoch [ 176 / 500 ] Training-Loss = 0.4348 Training-Accuracy = 0.5652244389057159 Validation-Accuracy = 0.869281045751634\n",
      "Epoch [ 177 / 500 ] Training-Loss = 0.4347 Training-Accuracy = 0.5653379559516907 Validation-Accuracy = 0.869281045751634\n",
      "Epoch [ 178 / 500 ] Training-Loss = 0.4345 Training-Accuracy = 0.5654524266719818 Validation-Accuracy = 0.869281045751634\n",
      "Epoch [ 179 / 500 ] Training-Loss = 0.4344 Training-Accuracy = 0.5655676424503326 Validation-Accuracy = 0.869281045751634\n",
      "Epoch [ 180 / 500 ] Training-Loss = 0.4343 Training-Accuracy = 0.5656843185424805 Validation-Accuracy = 0.869281045751634\n",
      "Epoch [ 181 / 500 ] Training-Loss = 0.4342 Training-Accuracy = 0.5658016502857208 Validation-Accuracy = 0.869281045751634\n",
      "Epoch [ 182 / 500 ] Training-Loss = 0.4341 Training-Accuracy = 0.5659197270870209 Validation-Accuracy = 0.869281045751634\n",
      "Epoch [ 183 / 500 ] Training-Loss = 0.4340 Training-Accuracy = 0.5660378038883209 Validation-Accuracy = 0.869281045751634\n",
      "Epoch [ 184 / 500 ] Training-Loss = 0.4338 Training-Accuracy = 0.5661565065383911 Validation-Accuracy = 0.869281045751634\n",
      "Epoch [ 185 / 500 ] Training-Loss = 0.4337 Training-Accuracy = 0.5662765800952911 Validation-Accuracy = 0.869281045751634\n",
      "Epoch [ 186 / 500 ] Training-Loss = 0.4336 Training-Accuracy = 0.5663977563381195 Validation-Accuracy = 0.869281045751634\n",
      "Epoch [ 187 / 500 ] Training-Loss = 0.4335 Training-Accuracy = 0.5665198266506195 Validation-Accuracy = 0.869281045751634\n",
      "Epoch [ 188 / 500 ] Training-Loss = 0.4334 Training-Accuracy = 0.5666427910327911 Validation-Accuracy = 0.869281045751634\n",
      "Epoch [ 189 / 500 ] Training-Loss = 0.4332 Training-Accuracy = 0.5667673051357269 Validation-Accuracy = 0.869281045751634\n",
      "Epoch [ 190 / 500 ] Training-Loss = 0.4331 Training-Accuracy = 0.5668944716453552 Validation-Accuracy = 0.869281045751634\n",
      "Epoch [ 191 / 500 ] Training-Loss = 0.4330 Training-Accuracy = 0.5670238137245178 Validation-Accuracy = 0.869281045751634\n",
      "Epoch [ 192 / 500 ] Training-Loss = 0.4328 Training-Accuracy = 0.567155122756958 Validation-Accuracy = 0.869281045751634\n",
      "Epoch [ 193 / 500 ] Training-Loss = 0.4327 Training-Accuracy = 0.5672886967658997 Validation-Accuracy = 0.869281045751634\n",
      "Epoch [ 194 / 500 ] Training-Loss = 0.4326 Training-Accuracy = 0.5674237608909607 Validation-Accuracy = 0.869281045751634\n",
      "Epoch [ 195 / 500 ] Training-Loss = 0.4324 Training-Accuracy = 0.5675605237483978 Validation-Accuracy = 0.869281045751634\n",
      "Epoch [ 196 / 500 ] Training-Loss = 0.4323 Training-Accuracy = 0.5676999390125275 Validation-Accuracy = 0.869281045751634\n",
      "Epoch [ 197 / 500 ] Training-Loss = 0.4322 Training-Accuracy = 0.5678418874740601 Validation-Accuracy = 0.869281045751634\n",
      "Epoch [ 198 / 500 ] Training-Loss = 0.4320 Training-Accuracy = 0.5679861009120941 Validation-Accuracy = 0.869281045751634\n",
      "Epoch [ 199 / 500 ] Training-Loss = 0.4319 Training-Accuracy = 0.5681304335594177 Validation-Accuracy = 0.869281045751634\n",
      "Epoch [ 200 / 500 ] Training-Loss = 0.4317 Training-Accuracy = 0.568276435136795 Validation-Accuracy = 0.869281045751634\n",
      "Epoch [ 201 / 500 ] Training-Loss = 0.4316 Training-Accuracy = 0.5684246718883514 Validation-Accuracy = 0.869281045751634\n",
      "Epoch [ 202 / 500 ] Training-Loss = 0.4314 Training-Accuracy = 0.5685742199420929 Validation-Accuracy = 0.869281045751634\n",
      "Epoch [ 203 / 500 ] Training-Loss = 0.4313 Training-Accuracy = 0.5687253773212433 Validation-Accuracy = 0.869281045751634\n",
      "Epoch [ 204 / 500 ] Training-Loss = 0.4311 Training-Accuracy = 0.5688782036304474 Validation-Accuracy = 0.869281045751634\n",
      "Epoch [ 205 / 500 ] Training-Loss = 0.4310 Training-Accuracy = 0.5690328180789948 Validation-Accuracy = 0.869281045751634\n",
      "Epoch [ 206 / 500 ] Training-Loss = 0.4308 Training-Accuracy = 0.5691885352134705 Validation-Accuracy = 0.869281045751634\n",
      "Epoch [ 207 / 500 ] Training-Loss = 0.4307 Training-Accuracy = 0.5693456828594208 Validation-Accuracy = 0.869281045751634\n",
      "Epoch [ 208 / 500 ] Training-Loss = 0.4305 Training-Accuracy = 0.5695049464702606 Validation-Accuracy = 0.869281045751634\n",
      "Epoch [ 209 / 500 ] Training-Loss = 0.4303 Training-Accuracy = 0.5696657001972198 Validation-Accuracy = 0.869281045751634\n",
      "Epoch [ 210 / 500 ] Training-Loss = 0.4302 Training-Accuracy = 0.5698289275169373 Validation-Accuracy = 0.869281045751634\n"
     ]
    },
    {
     "name": "stdout",
     "output_type": "stream",
     "text": [
      "Epoch [ 211 / 500 ] Training-Loss = 0.4300 Training-Accuracy = 0.5699947774410248 Validation-Accuracy = 0.869281045751634\n",
      "Epoch [ 212 / 500 ] Training-Loss = 0.4298 Training-Accuracy = 0.5701635479927063 Validation-Accuracy = 0.869281045751634\n",
      "Epoch [ 213 / 500 ] Training-Loss = 0.4297 Training-Accuracy = 0.5703353881835938 Validation-Accuracy = 0.869281045751634\n",
      "Epoch [ 214 / 500 ] Training-Loss = 0.4295 Training-Accuracy = 0.5705097615718842 Validation-Accuracy = 0.869281045751634\n",
      "Epoch [ 215 / 500 ] Training-Loss = 0.4293 Training-Accuracy = 0.5706863701343536 Validation-Accuracy = 0.869281045751634\n",
      "Epoch [ 216 / 500 ] Training-Loss = 0.4291 Training-Accuracy = 0.5708647668361664 Validation-Accuracy = 0.869281045751634\n",
      "Epoch [ 217 / 500 ] Training-Loss = 0.4290 Training-Accuracy = 0.571044534444809 Validation-Accuracy = 0.869281045751634\n",
      "Epoch [ 218 / 500 ] Training-Loss = 0.4288 Training-Accuracy = 0.5712280869483948 Validation-Accuracy = 0.869281045751634\n",
      "Epoch [ 219 / 500 ] Training-Loss = 0.4286 Training-Accuracy = 0.5714138746261597 Validation-Accuracy = 0.869281045751634\n",
      "Epoch [ 220 / 500 ] Training-Loss = 0.4284 Training-Accuracy = 0.5716013014316559 Validation-Accuracy = 0.869281045751634\n",
      "Epoch [ 221 / 500 ] Training-Loss = 0.4282 Training-Accuracy = 0.571791797876358 Validation-Accuracy = 0.869281045751634\n",
      "Epoch [ 222 / 500 ] Training-Loss = 0.4280 Training-Accuracy = 0.5719862282276154 Validation-Accuracy = 0.869281045751634\n",
      "Epoch [ 223 / 500 ] Training-Loss = 0.4278 Training-Accuracy = 0.5721840858459473 Validation-Accuracy = 0.869281045751634\n",
      "Epoch [ 224 / 500 ] Training-Loss = 0.4276 Training-Accuracy = 0.5723856091499329 Validation-Accuracy = 0.869281045751634\n",
      "Epoch [ 225 / 500 ] Training-Loss = 0.4274 Training-Accuracy = 0.572590559720993 Validation-Accuracy = 0.869281045751634\n",
      "Epoch [ 226 / 500 ] Training-Loss = 0.4272 Training-Accuracy = 0.5727976858615875 Validation-Accuracy = 0.869281045751634\n",
      "Epoch [ 227 / 500 ] Training-Loss = 0.4270 Training-Accuracy = 0.5730103552341461 Validation-Accuracy = 0.869281045751634\n",
      "Epoch [ 228 / 500 ] Training-Loss = 0.4268 Training-Accuracy = 0.5732287466526031 Validation-Accuracy = 0.869281045751634\n",
      "Epoch [ 229 / 500 ] Training-Loss = 0.4266 Training-Accuracy = 0.5734459459781647 Validation-Accuracy = 0.869281045751634\n",
      "Epoch [ 230 / 500 ] Training-Loss = 0.4263 Training-Accuracy = 0.5736629366874695 Validation-Accuracy = 0.869281045751634\n",
      "Epoch [ 231 / 500 ] Training-Loss = 0.4261 Training-Accuracy = 0.5738811194896698 Validation-Accuracy = 0.869281045751634\n",
      "Epoch [ 232 / 500 ] Training-Loss = 0.4259 Training-Accuracy = 0.5741028785705566 Validation-Accuracy = 0.869281045751634\n",
      "Epoch [ 233 / 500 ] Training-Loss = 0.4257 Training-Accuracy = 0.5743293762207031 Validation-Accuracy = 0.869281045751634\n",
      "Epoch [ 234 / 500 ] Training-Loss = 0.4254 Training-Accuracy = 0.5745600163936615 Validation-Accuracy = 0.869281045751634\n",
      "Epoch [ 235 / 500 ] Training-Loss = 0.4252 Training-Accuracy = 0.574794203042984 Validation-Accuracy = 0.869281045751634\n",
      "Epoch [ 236 / 500 ] Training-Loss = 0.4250 Training-Accuracy = 0.5750323534011841 Validation-Accuracy = 0.869281045751634\n",
      "Epoch [ 237 / 500 ] Training-Loss = 0.4247 Training-Accuracy = 0.5752741992473602 Validation-Accuracy = 0.869281045751634\n",
      "Epoch [ 238 / 500 ] Training-Loss = 0.4245 Training-Accuracy = 0.5755188465118408 Validation-Accuracy = 0.869281045751634\n",
      "Epoch [ 239 / 500 ] Training-Loss = 0.4242 Training-Accuracy = 0.5757676661014557 Validation-Accuracy = 0.869281045751634\n",
      "Epoch [ 240 / 500 ] Training-Loss = 0.4240 Training-Accuracy = 0.5760211646556854 Validation-Accuracy = 0.869281045751634\n",
      "Epoch [ 241 / 500 ] Training-Loss = 0.4237 Training-Accuracy = 0.5762793123722076 Validation-Accuracy = 0.869281045751634\n",
      "Epoch [ 242 / 500 ] Training-Loss = 0.4235 Training-Accuracy = 0.5765392780303955 Validation-Accuracy = 0.869281045751634\n",
      "Epoch [ 243 / 500 ] Training-Loss = 0.4232 Training-Accuracy = 0.5767998695373535 Validation-Accuracy = 0.869281045751634\n",
      "Epoch [ 244 / 500 ] Training-Loss = 0.4229 Training-Accuracy = 0.5770614445209503 Validation-Accuracy = 0.869281045751634\n",
      "Epoch [ 245 / 500 ] Training-Loss = 0.4227 Training-Accuracy = 0.5773256421089172 Validation-Accuracy = 0.869281045751634\n",
      "Epoch [ 246 / 500 ] Training-Loss = 0.4224 Training-Accuracy = 0.5775919854640961 Validation-Accuracy = 0.869281045751634\n",
      "Epoch [ 247 / 500 ] Training-Loss = 0.4221 Training-Accuracy = 0.577860951423645 Validation-Accuracy = 0.869281045751634\n",
      "Epoch [ 248 / 500 ] Training-Loss = 0.4219 Training-Accuracy = 0.5781335532665253 Validation-Accuracy = 0.869281045751634\n",
      "Epoch [ 249 / 500 ] Training-Loss = 0.4216 Training-Accuracy = 0.5784108936786652 Validation-Accuracy = 0.869281045751634\n",
      "Epoch [ 250 / 500 ] Training-Loss = 0.4213 Training-Accuracy = 0.5786925256252289 Validation-Accuracy = 0.869281045751634\n",
      "Epoch [ 251 / 500 ] Training-Loss = 0.4210 Training-Accuracy = 0.5789786279201508 Validation-Accuracy = 0.869281045751634\n",
      "Epoch [ 252 / 500 ] Training-Loss = 0.4207 Training-Accuracy = 0.5792683362960815 Validation-Accuracy = 0.869281045751634\n",
      "Epoch [ 253 / 500 ] Training-Loss = 0.4204 Training-Accuracy = 0.579562246799469 Validation-Accuracy = 0.869281045751634\n",
      "Epoch [ 254 / 500 ] Training-Loss = 0.4201 Training-Accuracy = 0.5798591673374176 Validation-Accuracy = 0.869281045751634\n",
      "Epoch [ 255 / 500 ] Training-Loss = 0.4198 Training-Accuracy = 0.5801606178283691 Validation-Accuracy = 0.869281045751634\n",
      "Epoch [ 256 / 500 ] Training-Loss = 0.4195 Training-Accuracy = 0.5804661810398102 Validation-Accuracy = 0.869281045751634\n",
      "Epoch [ 257 / 500 ] Training-Loss = 0.4192 Training-Accuracy = 0.5807765424251556 Validation-Accuracy = 0.869281045751634\n",
      "Epoch [ 258 / 500 ] Training-Loss = 0.4189 Training-Accuracy = 0.5810900330543518 Validation-Accuracy = 0.869281045751634\n",
      "Epoch [ 259 / 500 ] Training-Loss = 0.4186 Training-Accuracy = 0.5814081728458405 Validation-Accuracy = 0.869281045751634\n",
      "Epoch [ 260 / 500 ] Training-Loss = 0.4183 Training-Accuracy = 0.5817307531833649 Validation-Accuracy = 0.869281045751634\n",
      "Epoch [ 261 / 500 ] Training-Loss = 0.4179 Training-Accuracy = 0.5820580124855042 Validation-Accuracy = 0.869281045751634\n",
      "Epoch [ 262 / 500 ] Training-Loss = 0.4176 Training-Accuracy = 0.5823894441127777 Validation-Accuracy = 0.869281045751634\n",
      "Epoch [ 263 / 500 ] Training-Loss = 0.4173 Training-Accuracy = 0.5827250778675079 Validation-Accuracy = 0.869281045751634\n",
      "Epoch [ 264 / 500 ] Training-Loss = 0.4169 Training-Accuracy = 0.5830640196800232 Validation-Accuracy = 0.869281045751634\n",
      "Epoch [ 265 / 500 ] Training-Loss = 0.4166 Training-Accuracy = 0.583406001329422 Validation-Accuracy = 0.869281045751634\n",
      "Epoch [ 266 / 500 ] Training-Loss = 0.4162 Training-Accuracy = 0.5837501883506775 Validation-Accuracy = 0.869281045751634\n",
      "Epoch [ 267 / 500 ] Training-Loss = 0.4159 Training-Accuracy = 0.5840981006622314 Validation-Accuracy = 0.869281045751634\n",
      "Epoch [ 268 / 500 ] Training-Loss = 0.4156 Training-Accuracy = 0.5844497978687286 Validation-Accuracy = 0.869281045751634\n",
      "Epoch [ 269 / 500 ] Training-Loss = 0.4152 Training-Accuracy = 0.5848053693771362 Validation-Accuracy = 0.869281045751634\n",
      "Epoch [ 270 / 500 ] Training-Loss = 0.4148 Training-Accuracy = 0.5851653516292572 Validation-Accuracy = 0.869281045751634\n",
      "Epoch [ 271 / 500 ] Training-Loss = 0.4145 Training-Accuracy = 0.5855313539505005 Validation-Accuracy = 0.869281045751634\n",
      "Epoch [ 272 / 500 ] Training-Loss = 0.4141 Training-Accuracy = 0.5859026908874512 Validation-Accuracy = 0.869281045751634\n",
      "Epoch [ 273 / 500 ] Training-Loss = 0.4137 Training-Accuracy = 0.5862776339054108 Validation-Accuracy = 0.869281045751634\n",
      "Epoch [ 274 / 500 ] Training-Loss = 0.4133 Training-Accuracy = 0.5866571962833405 Validation-Accuracy = 0.869281045751634\n",
      "Epoch [ 275 / 500 ] Training-Loss = 0.4130 Training-Accuracy = 0.587040364742279 Validation-Accuracy = 0.869281045751634\n",
      "Epoch [ 276 / 500 ] Training-Loss = 0.4126 Training-Accuracy = 0.5874292552471161 Validation-Accuracy = 0.869281045751634\n",
      "Epoch [ 277 / 500 ] Training-Loss = 0.4122 Training-Accuracy = 0.5878237783908844 Validation-Accuracy = 0.869281045751634\n",
      "Epoch [ 278 / 500 ] Training-Loss = 0.4118 Training-Accuracy = 0.5882229208946228 Validation-Accuracy = 0.869281045751634\n",
      "Epoch [ 279 / 500 ] Training-Loss = 0.4114 Training-Accuracy = 0.5886271297931671 Validation-Accuracy = 0.869281045751634\n",
      "Epoch [ 280 / 500 ] Training-Loss = 0.4110 Training-Accuracy = 0.5890342593193054 Validation-Accuracy = 0.869281045751634\n",
      "Epoch [ 281 / 500 ] Training-Loss = 0.4106 Training-Accuracy = 0.589445173740387 Validation-Accuracy = 0.869281045751634\n",
      "Epoch [ 282 / 500 ] Training-Loss = 0.4101 Training-Accuracy = 0.5898618102073669 Validation-Accuracy = 0.869281045751634\n",
      "Epoch [ 283 / 500 ] Training-Loss = 0.4097 Training-Accuracy = 0.5902844965457916 Validation-Accuracy = 0.869281045751634\n"
     ]
    },
    {
     "name": "stdout",
     "output_type": "stream",
     "text": [
      "Epoch [ 284 / 500 ] Training-Loss = 0.4093 Training-Accuracy = 0.5907143950462341 Validation-Accuracy = 0.869281045751634\n",
      "Epoch [ 285 / 500 ] Training-Loss = 0.4088 Training-Accuracy = 0.5911519527435303 Validation-Accuracy = 0.869281045751634\n",
      "Epoch [ 286 / 500 ] Training-Loss = 0.4084 Training-Accuracy = 0.5915963351726532 Validation-Accuracy = 0.869281045751634\n",
      "Epoch [ 287 / 500 ] Training-Loss = 0.4080 Training-Accuracy = 0.5920472741127014 Validation-Accuracy = 0.869281045751634\n",
      "Epoch [ 288 / 500 ] Training-Loss = 0.4075 Training-Accuracy = 0.5925056338310242 Validation-Accuracy = 0.869281045751634\n",
      "Epoch [ 289 / 500 ] Training-Loss = 0.4070 Training-Accuracy = 0.5929708480834961 Validation-Accuracy = 0.869281045751634\n",
      "Epoch [ 290 / 500 ] Training-Loss = 0.4066 Training-Accuracy = 0.5934407413005829 Validation-Accuracy = 0.869281045751634\n",
      "Epoch [ 291 / 500 ] Training-Loss = 0.4061 Training-Accuracy = 0.593919575214386 Validation-Accuracy = 0.869281045751634\n",
      "Epoch [ 292 / 500 ] Training-Loss = 0.4056 Training-Accuracy = 0.5944051444530487 Validation-Accuracy = 0.869281045751634\n",
      "Epoch [ 293 / 500 ] Training-Loss = 0.4051 Training-Accuracy = 0.5948981642723083 Validation-Accuracy = 0.869281045751634\n",
      "Epoch [ 294 / 500 ] Training-Loss = 0.4046 Training-Accuracy = 0.5953978598117828 Validation-Accuracy = 0.869281045751634\n",
      "Epoch [ 295 / 500 ] Training-Loss = 0.4041 Training-Accuracy = 0.5959025323390961 Validation-Accuracy = 0.869281045751634\n",
      "Epoch [ 296 / 500 ] Training-Loss = 0.4036 Training-Accuracy = 0.5964124500751495 Validation-Accuracy = 0.869281045751634\n",
      "Epoch [ 297 / 500 ] Training-Loss = 0.4031 Training-Accuracy = 0.5969269275665283 Validation-Accuracy = 0.869281045751634\n",
      "Epoch [ 298 / 500 ] Training-Loss = 0.4026 Training-Accuracy = 0.5974481701850891 Validation-Accuracy = 0.869281045751634\n",
      "Epoch [ 299 / 500 ] Training-Loss = 0.4020 Training-Accuracy = 0.5979766845703125 Validation-Accuracy = 0.869281045751634\n",
      "Epoch [ 300 / 500 ] Training-Loss = 0.4015 Training-Accuracy = 0.5985100865364075 Validation-Accuracy = 0.869281045751634\n",
      "Epoch [ 301 / 500 ] Training-Loss = 0.4010 Training-Accuracy = 0.5990498661994934 Validation-Accuracy = 0.869281045751634\n",
      "Epoch [ 302 / 500 ] Training-Loss = 0.4004 Training-Accuracy = 0.59959876537323 Validation-Accuracy = 0.869281045751634\n",
      "Epoch [ 303 / 500 ] Training-Loss = 0.3998 Training-Accuracy = 0.6001555621623993 Validation-Accuracy = 0.869281045751634\n",
      "Epoch [ 304 / 500 ] Training-Loss = 0.3993 Training-Accuracy = 0.6007177531719208 Validation-Accuracy = 0.869281045751634\n",
      "Epoch [ 305 / 500 ] Training-Loss = 0.3987 Training-Accuracy = 0.601286768913269 Validation-Accuracy = 0.869281045751634\n",
      "Epoch [ 306 / 500 ] Training-Loss = 0.3981 Training-Accuracy = 0.6018646657466888 Validation-Accuracy = 0.869281045751634\n",
      "Epoch [ 307 / 500 ] Training-Loss = 0.3975 Training-Accuracy = 0.6024506986141205 Validation-Accuracy = 0.869281045751634\n",
      "Epoch [ 308 / 500 ] Training-Loss = 0.3970 Training-Accuracy = 0.6030446290969849 Validation-Accuracy = 0.869281045751634\n",
      "Epoch [ 309 / 500 ] Training-Loss = 0.3964 Training-Accuracy = 0.6036458611488342 Validation-Accuracy = 0.869281045751634\n",
      "Epoch [ 310 / 500 ] Training-Loss = 0.3957 Training-Accuracy = 0.6042547821998596 Validation-Accuracy = 0.869281045751634\n",
      "Epoch [ 311 / 500 ] Training-Loss = 0.3951 Training-Accuracy = 0.60487100481987 Validation-Accuracy = 0.869281045751634\n",
      "Epoch [ 312 / 500 ] Training-Loss = 0.3945 Training-Accuracy = 0.6054930984973907 Validation-Accuracy = 0.869281045751634\n",
      "Epoch [ 313 / 500 ] Training-Loss = 0.3939 Training-Accuracy = 0.6061233282089233 Validation-Accuracy = 0.869281045751634\n",
      "Epoch [ 314 / 500 ] Training-Loss = 0.3932 Training-Accuracy = 0.6067633926868439 Validation-Accuracy = 0.869281045751634\n",
      "Epoch [ 315 / 500 ] Training-Loss = 0.3926 Training-Accuracy = 0.6074143648147583 Validation-Accuracy = 0.869281045751634\n",
      "Epoch [ 316 / 500 ] Training-Loss = 0.3919 Training-Accuracy = 0.6080784201622009 Validation-Accuracy = 0.869281045751634\n",
      "Epoch [ 317 / 500 ] Training-Loss = 0.3912 Training-Accuracy = 0.6087551414966583 Validation-Accuracy = 0.869281045751634\n",
      "Epoch [ 318 / 500 ] Training-Loss = 0.3906 Training-Accuracy = 0.6094455718994141 Validation-Accuracy = 0.869281045751634\n",
      "Epoch [ 319 / 500 ] Training-Loss = 0.3899 Training-Accuracy = 0.6101376712322235 Validation-Accuracy = 0.869281045751634\n",
      "Epoch [ 320 / 500 ] Training-Loss = 0.3892 Training-Accuracy = 0.6108209490776062 Validation-Accuracy = 0.869281045751634\n",
      "Epoch [ 321 / 500 ] Training-Loss = 0.3885 Training-Accuracy = 0.6115118861198425 Validation-Accuracy = 0.869281045751634\n",
      "Epoch [ 322 / 500 ] Training-Loss = 0.3878 Training-Accuracy = 0.6122080385684967 Validation-Accuracy = 0.869281045751634\n",
      "Epoch [ 323 / 500 ] Training-Loss = 0.3871 Training-Accuracy = 0.612912654876709 Validation-Accuracy = 0.869281045751634\n",
      "Epoch [ 324 / 500 ] Training-Loss = 0.3864 Training-Accuracy = 0.6136264503002167 Validation-Accuracy = 0.869281045751634\n",
      "Epoch [ 325 / 500 ] Training-Loss = 0.3857 Training-Accuracy = 0.6143492162227631 Validation-Accuracy = 0.869281045751634\n",
      "Epoch [ 326 / 500 ] Training-Loss = 0.3849 Training-Accuracy = 0.6150795519351959 Validation-Accuracy = 0.869281045751634\n",
      "Epoch [ 327 / 500 ] Training-Loss = 0.3842 Training-Accuracy = 0.615818440914154 Validation-Accuracy = 0.869281045751634\n",
      "Epoch [ 328 / 500 ] Training-Loss = 0.3834 Training-Accuracy = 0.6165690124034882 Validation-Accuracy = 0.869281045751634\n",
      "Epoch [ 329 / 500 ] Training-Loss = 0.3827 Training-Accuracy = 0.6173309981822968 Validation-Accuracy = 0.869281045751634\n",
      "Epoch [ 330 / 500 ] Training-Loss = 0.3819 Training-Accuracy = 0.6181009411811829 Validation-Accuracy = 0.869281045751634\n",
      "Epoch [ 331 / 500 ] Training-Loss = 0.3811 Training-Accuracy = 0.6188794672489166 Validation-Accuracy = 0.869281045751634\n",
      "Epoch [ 332 / 500 ] Training-Loss = 0.3803 Training-Accuracy = 0.6196649968624115 Validation-Accuracy = 0.869281045751634\n",
      "Epoch [ 333 / 500 ] Training-Loss = 0.3795 Training-Accuracy = 0.6204611957073212 Validation-Accuracy = 0.869281045751634\n",
      "Epoch [ 334 / 500 ] Training-Loss = 0.3787 Training-Accuracy = 0.6212667226791382 Validation-Accuracy = 0.869281045751634\n",
      "Epoch [ 335 / 500 ] Training-Loss = 0.3779 Training-Accuracy = 0.6220782995223999 Validation-Accuracy = 0.869281045751634\n",
      "Epoch [ 336 / 500 ] Training-Loss = 0.3771 Training-Accuracy = 0.6228957176208496 Validation-Accuracy = 0.869281045751634\n",
      "Epoch [ 337 / 500 ] Training-Loss = 0.3763 Training-Accuracy = 0.6237152516841888 Validation-Accuracy = 0.869281045751634\n",
      "Epoch [ 338 / 500 ] Training-Loss = 0.3755 Training-Accuracy = 0.6245409846305847 Validation-Accuracy = 0.869281045751634\n",
      "Epoch [ 339 / 500 ] Training-Loss = 0.3746 Training-Accuracy = 0.6253780722618103 Validation-Accuracy = 0.869281045751634\n",
      "Epoch [ 340 / 500 ] Training-Loss = 0.3738 Training-Accuracy = 0.6262220144271851 Validation-Accuracy = 0.869281045751634\n",
      "Epoch [ 341 / 500 ] Training-Loss = 0.3729 Training-Accuracy = 0.6270724236965179 Validation-Accuracy = 0.869281045751634\n",
      "Epoch [ 342 / 500 ] Training-Loss = 0.3721 Training-Accuracy = 0.6279270052909851 Validation-Accuracy = 0.869281045751634\n",
      "Epoch [ 343 / 500 ] Training-Loss = 0.3712 Training-Accuracy = 0.6287861466407776 Validation-Accuracy = 0.869281045751634\n",
      "Epoch [ 344 / 500 ] Training-Loss = 0.3704 Training-Accuracy = 0.6296478807926178 Validation-Accuracy = 0.869281045751634\n",
      "Epoch [ 345 / 500 ] Training-Loss = 0.3695 Training-Accuracy = 0.6305071413516998 Validation-Accuracy = 0.869281045751634\n",
      "Epoch [ 346 / 500 ] Training-Loss = 0.3686 Training-Accuracy = 0.6313721537590027 Validation-Accuracy = 0.869281045751634\n",
      "Epoch [ 347 / 500 ] Training-Loss = 0.3678 Training-Accuracy = 0.6322470009326935 Validation-Accuracy = 0.869281045751634\n",
      "Epoch [ 348 / 500 ] Training-Loss = 0.3669 Training-Accuracy = 0.6331286132335663 Validation-Accuracy = 0.869281045751634\n",
      "Epoch [ 349 / 500 ] Training-Loss = 0.3660 Training-Accuracy = 0.6340120434761047 Validation-Accuracy = 0.869281045751634\n",
      "Epoch [ 350 / 500 ] Training-Loss = 0.3651 Training-Accuracy = 0.6348975896835327 Validation-Accuracy = 0.869281045751634\n",
      "Epoch [ 351 / 500 ] Training-Loss = 0.3642 Training-Accuracy = 0.63578200340271 Validation-Accuracy = 0.869281045751634\n",
      "Epoch [ 352 / 500 ] Training-Loss = 0.3633 Training-Accuracy = 0.6366669237613678 Validation-Accuracy = 0.869281045751634\n",
      "Epoch [ 353 / 500 ] Training-Loss = 0.3625 Training-Accuracy = 0.6375493407249451 Validation-Accuracy = 0.869281045751634\n"
     ]
    },
    {
     "name": "stdout",
     "output_type": "stream",
     "text": [
      "Epoch [ 354 / 500 ] Training-Loss = 0.3616 Training-Accuracy = 0.6384264826774597 Validation-Accuracy = 0.869281045751634\n",
      "Epoch [ 355 / 500 ] Training-Loss = 0.3607 Training-Accuracy = 0.6393063068389893 Validation-Accuracy = 0.869281045751634\n",
      "Epoch [ 356 / 500 ] Training-Loss = 0.3598 Training-Accuracy = 0.6401878595352173 Validation-Accuracy = 0.869281045751634\n",
      "Epoch [ 357 / 500 ] Training-Loss = 0.3589 Training-Accuracy = 0.641063928604126 Validation-Accuracy = 0.869281045751634\n",
      "Epoch [ 358 / 500 ] Training-Loss = 0.3581 Training-Accuracy = 0.641935795545578 Validation-Accuracy = 0.869281045751634\n",
      "Epoch [ 359 / 500 ] Training-Loss = 0.3572 Training-Accuracy = 0.6428094506263733 Validation-Accuracy = 0.869281045751634\n",
      "Epoch [ 360 / 500 ] Training-Loss = 0.3563 Training-Accuracy = 0.6436673402786255 Validation-Accuracy = 0.869281045751634\n",
      "Epoch [ 361 / 500 ] Training-Loss = 0.3555 Training-Accuracy = 0.6445208191871643 Validation-Accuracy = 0.8758169934640523\n",
      "Epoch [ 362 / 500 ] Training-Loss = 0.3546 Training-Accuracy = 0.6453622877597809 Validation-Accuracy = 0.8758169934640523\n",
      "Epoch [ 363 / 500 ] Training-Loss = 0.3538 Training-Accuracy = 0.6461800038814545 Validation-Accuracy = 0.8790849673202614\n",
      "Epoch [ 364 / 500 ] Training-Loss = 0.3530 Training-Accuracy = 0.6469906270503998 Validation-Accuracy = 0.8823529411764706\n",
      "Epoch [ 365 / 500 ] Training-Loss = 0.3522 Training-Accuracy = 0.6477731764316559 Validation-Accuracy = 0.8856209150326797\n",
      "Epoch [ 366 / 500 ] Training-Loss = 0.3515 Training-Accuracy = 0.6485472023487091 Validation-Accuracy = 0.8888888888888888\n",
      "Epoch [ 367 / 500 ] Training-Loss = 0.3507 Training-Accuracy = 0.6493057310581207 Validation-Accuracy = 0.8921568627450981\n",
      "Epoch [ 368 / 500 ] Training-Loss = 0.3500 Training-Accuracy = 0.6500457227230072 Validation-Accuracy = 0.8921568627450981\n",
      "Epoch [ 369 / 500 ] Training-Loss = 0.3492 Training-Accuracy = 0.6507686972618103 Validation-Accuracy = 0.8921568627450981\n",
      "Epoch [ 370 / 500 ] Training-Loss = 0.3485 Training-Accuracy = 0.6514722406864166 Validation-Accuracy = 0.8888888888888888\n",
      "Epoch [ 371 / 500 ] Training-Loss = 0.3478 Training-Accuracy = 0.6521608233451843 Validation-Accuracy = 0.8921568627450981\n",
      "Epoch [ 372 / 500 ] Training-Loss = 0.3472 Training-Accuracy = 0.6528255343437195 Validation-Accuracy = 0.8921568627450981\n",
      "Epoch [ 373 / 500 ] Training-Loss = 0.3465 Training-Accuracy = 0.6534728109836578 Validation-Accuracy = 0.8888888888888888\n",
      "Epoch [ 374 / 500 ] Training-Loss = 0.3459 Training-Accuracy = 0.6541088819503784 Validation-Accuracy = 0.8888888888888888\n",
      "Epoch [ 375 / 500 ] Training-Loss = 0.3453 Training-Accuracy = 0.6547430753707886 Validation-Accuracy = 0.8888888888888888\n",
      "Epoch [ 376 / 500 ] Training-Loss = 0.3446 Training-Accuracy = 0.6553619205951691 Validation-Accuracy = 0.8823529411764706\n",
      "Epoch [ 377 / 500 ] Training-Loss = 0.3440 Training-Accuracy = 0.6559613347053528 Validation-Accuracy = 0.8823529411764706\n",
      "Epoch [ 378 / 500 ] Training-Loss = 0.3435 Training-Accuracy = 0.6565482914447784 Validation-Accuracy = 0.8823529411764706\n",
      "Epoch [ 379 / 500 ] Training-Loss = 0.3429 Training-Accuracy = 0.6571305394172668 Validation-Accuracy = 0.8823529411764706\n",
      "Epoch [ 380 / 500 ] Training-Loss = 0.3423 Training-Accuracy = 0.65769824385643 Validation-Accuracy = 0.8823529411764706\n",
      "Epoch [ 381 / 500 ] Training-Loss = 0.3417 Training-Accuracy = 0.6582653522491455 Validation-Accuracy = 0.8823529411764706\n",
      "Epoch [ 382 / 500 ] Training-Loss = 0.3412 Training-Accuracy = 0.6588357090950012 Validation-Accuracy = 0.8823529411764706\n",
      "Epoch [ 383 / 500 ] Training-Loss = 0.3406 Training-Accuracy = 0.6594156622886658 Validation-Accuracy = 0.8823529411764706\n",
      "Epoch [ 384 / 500 ] Training-Loss = 0.3400 Training-Accuracy = 0.6599857807159424 Validation-Accuracy = 0.8823529411764706\n",
      "Epoch [ 385 / 500 ] Training-Loss = 0.3394 Training-Accuracy = 0.6605570614337921 Validation-Accuracy = 0.8823529411764706\n",
      "Epoch [ 386 / 500 ] Training-Loss = 0.3389 Training-Accuracy = 0.661111980676651 Validation-Accuracy = 0.8823529411764706\n",
      "Epoch [ 387 / 500 ] Training-Loss = 0.3384 Training-Accuracy = 0.6616465449333191 Validation-Accuracy = 0.8823529411764706\n",
      "Epoch [ 388 / 500 ] Training-Loss = 0.3378 Training-Accuracy = 0.662153959274292 Validation-Accuracy = 0.8823529411764706\n",
      "Epoch [ 389 / 500 ] Training-Loss = 0.3374 Training-Accuracy = 0.662640392780304 Validation-Accuracy = 0.8823529411764706\n",
      "Epoch [ 390 / 500 ] Training-Loss = 0.3369 Training-Accuracy = 0.6631410717964172 Validation-Accuracy = 0.8790849673202614\n",
      "Epoch [ 391 / 500 ] Training-Loss = 0.3364 Training-Accuracy = 0.6636398136615753 Validation-Accuracy = 0.8790849673202614\n",
      "Epoch [ 392 / 500 ] Training-Loss = 0.3359 Training-Accuracy = 0.6641405522823334 Validation-Accuracy = 0.8790849673202614\n",
      "Epoch [ 393 / 500 ] Training-Loss = 0.3354 Training-Accuracy = 0.664641797542572 Validation-Accuracy = 0.8790849673202614\n",
      "Epoch [ 394 / 500 ] Training-Loss = 0.3349 Training-Accuracy = 0.6651288568973541 Validation-Accuracy = 0.8790849673202614\n",
      "Epoch [ 395 / 500 ] Training-Loss = 0.3344 Training-Accuracy = 0.6656072437763214 Validation-Accuracy = 0.8790849673202614\n",
      "Epoch [ 396 / 500 ] Training-Loss = 0.3339 Training-Accuracy = 0.6660784482955933 Validation-Accuracy = 0.8790849673202614\n",
      "Epoch [ 397 / 500 ] Training-Loss = 0.3334 Training-Accuracy = 0.6665634512901306 Validation-Accuracy = 0.8790849673202614\n",
      "Epoch [ 398 / 500 ] Training-Loss = 0.3329 Training-Accuracy = 0.6670622825622559 Validation-Accuracy = 0.8758169934640523\n",
      "Epoch [ 399 / 500 ] Training-Loss = 0.3325 Training-Accuracy = 0.6675452888011932 Validation-Accuracy = 0.8758169934640523\n",
      "Epoch [ 400 / 500 ] Training-Loss = 0.3320 Training-Accuracy = 0.6680090427398682 Validation-Accuracy = 0.8790849673202614\n",
      "Epoch [ 401 / 500 ] Training-Loss = 0.3315 Training-Accuracy = 0.6684710681438446 Validation-Accuracy = 0.8823529411764706\n",
      "Epoch [ 402 / 500 ] Training-Loss = 0.3311 Training-Accuracy = 0.6689359545707703 Validation-Accuracy = 0.8823529411764706\n",
      "Epoch [ 403 / 500 ] Training-Loss = 0.3306 Training-Accuracy = 0.6694026291370392 Validation-Accuracy = 0.8823529411764706\n",
      "Epoch [ 404 / 500 ] Training-Loss = 0.3301 Training-Accuracy = 0.6698775291442871 Validation-Accuracy = 0.8790849673202614\n",
      "Epoch [ 405 / 500 ] Training-Loss = 0.3296 Training-Accuracy = 0.6703736484050751 Validation-Accuracy = 0.8790849673202614\n",
      "Epoch [ 406 / 500 ] Training-Loss = 0.3291 Training-Accuracy = 0.6708608567714691 Validation-Accuracy = 0.8790849673202614\n",
      "Epoch [ 407 / 500 ] Training-Loss = 0.3287 Training-Accuracy = 0.6713393032550812 Validation-Accuracy = 0.8758169934640523\n",
      "Epoch [ 408 / 500 ] Training-Loss = 0.3282 Training-Accuracy = 0.6718167066574097 Validation-Accuracy = 0.8758169934640523\n",
      "Epoch [ 409 / 500 ] Training-Loss = 0.3277 Training-Accuracy = 0.6722865998744965 Validation-Accuracy = 0.8758169934640523\n",
      "Epoch [ 410 / 500 ] Training-Loss = 0.3272 Training-Accuracy = 0.6727684140205383 Validation-Accuracy = 0.8758169934640523\n",
      "Epoch [ 411 / 500 ] Training-Loss = 0.3268 Training-Accuracy = 0.6732418537139893 Validation-Accuracy = 0.8758169934640523\n",
      "Epoch [ 412 / 500 ] Training-Loss = 0.3263 Training-Accuracy = 0.6737157702445984 Validation-Accuracy = 0.8758169934640523\n",
      "Epoch [ 413 / 500 ] Training-Loss = 0.3258 Training-Accuracy = 0.6741987764835358 Validation-Accuracy = 0.8758169934640523\n",
      "Epoch [ 414 / 500 ] Training-Loss = 0.3253 Training-Accuracy = 0.6746835112571716 Validation-Accuracy = 0.8758169934640523\n",
      "Epoch [ 415 / 500 ] Training-Loss = 0.3248 Training-Accuracy = 0.6751846373081207 Validation-Accuracy = 0.8758169934640523\n",
      "Epoch [ 416 / 500 ] Training-Loss = 0.3243 Training-Accuracy = 0.6757073998451233 Validation-Accuracy = 0.8790849673202614\n",
      "Epoch [ 417 / 500 ] Training-Loss = 0.3237 Training-Accuracy = 0.6762707531452179 Validation-Accuracy = 0.8823529411764706\n",
      "Epoch [ 418 / 500 ] Training-Loss = 0.3232 Training-Accuracy = 0.6768335998058319 Validation-Accuracy = 0.8823529411764706\n",
      "Epoch [ 419 / 500 ] Training-Loss = 0.3226 Training-Accuracy = 0.6773801445960999 Validation-Accuracy = 0.8823529411764706\n",
      "Epoch [ 420 / 500 ] Training-Loss = 0.3221 Training-Accuracy = 0.6778772175312042 Validation-Accuracy = 0.8823529411764706\n",
      "Epoch [ 421 / 500 ] Training-Loss = 0.3216 Training-Accuracy = 0.6783919036388397 Validation-Accuracy = 0.8823529411764706\n",
      "Epoch [ 422 / 500 ] Training-Loss = 0.3211 Training-Accuracy = 0.6789350509643555 Validation-Accuracy = 0.8823529411764706\n",
      "Epoch [ 423 / 500 ] Training-Loss = 0.3205 Training-Accuracy = 0.6794717311859131 Validation-Accuracy = 0.8823529411764706\n",
      "Epoch [ 424 / 500 ] Training-Loss = 0.3200 Training-Accuracy = 0.6800170242786407 Validation-Accuracy = 0.8856209150326797\n",
      "Epoch [ 425 / 500 ] Training-Loss = 0.3194 Training-Accuracy = 0.6805672645568848 Validation-Accuracy = 0.8856209150326797\n"
     ]
    },
    {
     "name": "stdout",
     "output_type": "stream",
     "text": [
      "Epoch [ 426 / 500 ] Training-Loss = 0.3189 Training-Accuracy = 0.6811217665672302 Validation-Accuracy = 0.8823529411764706\n",
      "Epoch [ 427 / 500 ] Training-Loss = 0.3183 Training-Accuracy = 0.6816751062870026 Validation-Accuracy = 0.8823529411764706\n",
      "Epoch [ 428 / 500 ] Training-Loss = 0.3178 Training-Accuracy = 0.6822417676448822 Validation-Accuracy = 0.8823529411764706\n",
      "Epoch [ 429 / 500 ] Training-Loss = 0.3172 Training-Accuracy = 0.6828168332576752 Validation-Accuracy = 0.8823529411764706\n",
      "Epoch [ 430 / 500 ] Training-Loss = 0.3166 Training-Accuracy = 0.6833817958831787 Validation-Accuracy = 0.8823529411764706\n",
      "Epoch [ 431 / 500 ] Training-Loss = 0.3161 Training-Accuracy = 0.6839317977428436 Validation-Accuracy = 0.8823529411764706\n",
      "Epoch [ 432 / 500 ] Training-Loss = 0.3155 Training-Accuracy = 0.6844975352287292 Validation-Accuracy = 0.8823529411764706\n",
      "Epoch [ 433 / 500 ] Training-Loss = 0.3149 Training-Accuracy = 0.6850748658180237 Validation-Accuracy = 0.8823529411764706\n",
      "Epoch [ 434 / 500 ] Training-Loss = 0.3144 Training-Accuracy = 0.6856328547000885 Validation-Accuracy = 0.8823529411764706\n",
      "Epoch [ 435 / 500 ] Training-Loss = 0.3138 Training-Accuracy = 0.6861700713634491 Validation-Accuracy = 0.8823529411764706\n",
      "Epoch [ 436 / 500 ] Training-Loss = 0.3133 Training-Accuracy = 0.6866952180862427 Validation-Accuracy = 0.8823529411764706\n",
      "Epoch [ 437 / 500 ] Training-Loss = 0.3128 Training-Accuracy = 0.6872255206108093 Validation-Accuracy = 0.8823529411764706\n",
      "Epoch [ 438 / 500 ] Training-Loss = 0.3122 Training-Accuracy = 0.6878457069396973 Validation-Accuracy = 0.8823529411764706\n",
      "Epoch [ 439 / 500 ] Training-Loss = 0.3115 Training-Accuracy = 0.6884689033031464 Validation-Accuracy = 0.8823529411764706\n",
      "Epoch [ 440 / 500 ] Training-Loss = 0.3110 Training-Accuracy = 0.6889920830726624 Validation-Accuracy = 0.8823529411764706\n",
      "Epoch [ 441 / 500 ] Training-Loss = 0.3105 Training-Accuracy = 0.689483106136322 Validation-Accuracy = 0.8790849673202614\n",
      "Epoch [ 442 / 500 ] Training-Loss = 0.3100 Training-Accuracy = 0.6900105476379395 Validation-Accuracy = 0.8823529411764706\n",
      "Epoch [ 443 / 500 ] Training-Loss = 0.3092 Training-Accuracy = 0.6907787919044495 Validation-Accuracy = 0.8823529411764706\n",
      "Epoch [ 444 / 500 ] Training-Loss = 0.3086 Training-Accuracy = 0.6913592517375946 Validation-Accuracy = 0.8790849673202614\n",
      "Epoch [ 445 / 500 ] Training-Loss = 0.3082 Training-Accuracy = 0.6918196082115173 Validation-Accuracy = 0.8823529411764706\n",
      "Epoch [ 446 / 500 ] Training-Loss = 0.3075 Training-Accuracy = 0.6925490498542786 Validation-Accuracy = 0.8790849673202614\n",
      "Epoch [ 447 / 500 ] Training-Loss = 0.3068 Training-Accuracy = 0.6932235658168793 Validation-Accuracy = 0.8758169934640523\n",
      "Epoch [ 448 / 500 ] Training-Loss = 0.3062 Training-Accuracy = 0.6937616169452667 Validation-Accuracy = 0.8823529411764706\n",
      "Epoch [ 449 / 500 ] Training-Loss = 0.3056 Training-Accuracy = 0.694385290145874 Validation-Accuracy = 0.8758169934640523\n",
      "Epoch [ 450 / 500 ] Training-Loss = 0.3049 Training-Accuracy = 0.6950618922710419 Validation-Accuracy = 0.8758169934640523\n",
      "Epoch [ 451 / 500 ] Training-Loss = 0.3044 Training-Accuracy = 0.6956392228603363 Validation-Accuracy = 0.8790849673202614\n",
      "Epoch [ 452 / 500 ] Training-Loss = 0.3038 Training-Accuracy = 0.696238249540329 Validation-Accuracy = 0.8758169934640523\n",
      "Epoch [ 453 / 500 ] Training-Loss = 0.3031 Training-Accuracy = 0.6969140470027924 Validation-Accuracy = 0.8758169934640523\n",
      "Epoch [ 454 / 500 ] Training-Loss = 0.3024 Training-Accuracy = 0.6975812613964081 Validation-Accuracy = 0.8758169934640523\n",
      "Epoch [ 455 / 500 ] Training-Loss = 0.3018 Training-Accuracy = 0.6981681883335114 Validation-Accuracy = 0.8790849673202614\n",
      "Epoch [ 456 / 500 ] Training-Loss = 0.3012 Training-Accuracy = 0.6987851560115814 Validation-Accuracy = 0.8758169934640523\n",
      "Epoch [ 457 / 500 ] Training-Loss = 0.3005 Training-Accuracy = 0.6994975805282593 Validation-Accuracy = 0.8758169934640523\n",
      "Epoch [ 458 / 500 ] Training-Loss = 0.2999 Training-Accuracy = 0.7001277208328247 Validation-Accuracy = 0.8823529411764706\n",
      "Epoch [ 459 / 500 ] Training-Loss = 0.2993 Training-Accuracy = 0.7007364928722382 Validation-Accuracy = 0.8790849673202614\n",
      "Epoch [ 460 / 500 ] Training-Loss = 0.2985 Training-Accuracy = 0.7014764547348022 Validation-Accuracy = 0.8790849673202614\n",
      "Epoch [ 461 / 500 ] Training-Loss = 0.2978 Training-Accuracy = 0.7021569311618805 Validation-Accuracy = 0.8823529411764706\n",
      "Epoch [ 462 / 500 ] Training-Loss = 0.2972 Training-Accuracy = 0.7027931213378906 Validation-Accuracy = 0.8823529411764706\n",
      "Epoch [ 463 / 500 ] Training-Loss = 0.2965 Training-Accuracy = 0.703545331954956 Validation-Accuracy = 0.8823529411764706\n",
      "Epoch [ 464 / 500 ] Training-Loss = 0.2958 Training-Accuracy = 0.7042459547519684 Validation-Accuracy = 0.8823529411764706\n",
      "Epoch [ 465 / 500 ] Training-Loss = 0.2950 Training-Accuracy = 0.7049864828586578 Validation-Accuracy = 0.8823529411764706\n",
      "Epoch [ 466 / 500 ] Training-Loss = 0.2942 Training-Accuracy = 0.7058108448982239 Validation-Accuracy = 0.8823529411764706\n",
      "Epoch [ 467 / 500 ] Training-Loss = 0.2935 Training-Accuracy = 0.7065011858940125 Validation-Accuracy = 0.8856209150326797\n",
      "Epoch [ 468 / 500 ] Training-Loss = 0.2926 Training-Accuracy = 0.7073687314987183 Validation-Accuracy = 0.8823529411764706\n",
      "Epoch [ 469 / 500 ] Training-Loss = 0.2919 Training-Accuracy = 0.708149790763855 Validation-Accuracy = 0.8823529411764706\n",
      "Epoch [ 470 / 500 ] Training-Loss = 0.2911 Training-Accuracy = 0.7088622450828552 Validation-Accuracy = 0.8823529411764706\n",
      "Epoch [ 471 / 500 ] Training-Loss = 0.2903 Training-Accuracy = 0.7097242474555969 Validation-Accuracy = 0.8823529411764706\n",
      "Epoch [ 472 / 500 ] Training-Loss = 0.2893 Training-Accuracy = 0.7106668055057526 Validation-Accuracy = 0.8823529411764706\n",
      "Epoch [ 473 / 500 ] Training-Loss = 0.2886 Training-Accuracy = 0.7113767564296722 Validation-Accuracy = 0.8823529411764706\n",
      "Epoch [ 474 / 500 ] Training-Loss = 0.2880 Training-Accuracy = 0.7120169997215271 Validation-Accuracy = 0.8823529411764706\n",
      "Epoch [ 475 / 500 ] Training-Loss = 0.2871 Training-Accuracy = 0.7128852307796478 Validation-Accuracy = 0.8823529411764706\n",
      "Epoch [ 476 / 500 ] Training-Loss = 0.2861 Training-Accuracy = 0.7138891816139221 Validation-Accuracy = 0.8823529411764706\n",
      "Epoch [ 477 / 500 ] Training-Loss = 0.2852 Training-Accuracy = 0.714797168970108 Validation-Accuracy = 0.8823529411764706\n",
      "Epoch [ 478 / 500 ] Training-Loss = 0.2845 Training-Accuracy = 0.715521365404129 Validation-Accuracy = 0.8856209150326797\n",
      "Epoch [ 479 / 500 ] Training-Loss = 0.2838 Training-Accuracy = 0.7161776125431061 Validation-Accuracy = 0.8823529411764706\n",
      "Epoch [ 480 / 500 ] Training-Loss = 0.2832 Training-Accuracy = 0.7168096303939819 Validation-Accuracy = 0.8856209150326797\n",
      "Epoch [ 481 / 500 ] Training-Loss = 0.2822 Training-Accuracy = 0.717759519815445 Validation-Accuracy = 0.8856209150326797\n",
      "Epoch [ 482 / 500 ] Training-Loss = 0.2813 Training-Accuracy = 0.718727320432663 Validation-Accuracy = 0.8856209150326797\n",
      "Epoch [ 483 / 500 ] Training-Loss = 0.2804 Training-Accuracy = 0.7195774614810944 Validation-Accuracy = 0.8856209150326797\n",
      "Epoch [ 484 / 500 ] Training-Loss = 0.2798 Training-Accuracy = 0.7201559245586395 Validation-Accuracy = 0.8856209150326797\n",
      "Epoch [ 485 / 500 ] Training-Loss = 0.2794 Training-Accuracy = 0.7206041514873505 Validation-Accuracy = 0.8823529411764706\n",
      "Epoch [ 486 / 500 ] Training-Loss = 0.2786 Training-Accuracy = 0.7213891446590424 Validation-Accuracy = 0.8856209150326797\n",
      "Epoch [ 487 / 500 ] Training-Loss = 0.2777 Training-Accuracy = 0.7223144769668579 Validation-Accuracy = 0.8856209150326797\n",
      "Epoch [ 488 / 500 ] Training-Loss = 0.2767 Training-Accuracy = 0.723261147737503 Validation-Accuracy = 0.8823529411764706\n",
      "Epoch [ 489 / 500 ] Training-Loss = 0.2761 Training-Accuracy = 0.7239373624324799 Validation-Accuracy = 0.8856209150326797\n",
      "Epoch [ 490 / 500 ] Training-Loss = 0.2756 Training-Accuracy = 0.7244397699832916 Validation-Accuracy = 0.8856209150326797\n",
      "Epoch [ 491 / 500 ] Training-Loss = 0.2749 Training-Accuracy = 0.7251302301883698 Validation-Accuracy = 0.8856209150326797\n",
      "Epoch [ 492 / 500 ] Training-Loss = 0.2743 Training-Accuracy = 0.7257156670093536 Validation-Accuracy = 0.8823529411764706\n",
      "Epoch [ 493 / 500 ] Training-Loss = 0.2736 Training-Accuracy = 0.7264357209205627 Validation-Accuracy = 0.8856209150326797\n",
      "Epoch [ 494 / 500 ] Training-Loss = 0.2730 Training-Accuracy = 0.7269661128520966 Validation-Accuracy = 0.8823529411764706\n",
      "Epoch [ 495 / 500 ] Training-Loss = 0.2723 Training-Accuracy = 0.7276773452758789 Validation-Accuracy = 0.8856209150326797\n"
     ]
    },
    {
     "name": "stdout",
     "output_type": "stream",
     "text": [
      "Epoch [ 496 / 500 ] Training-Loss = 0.2716 Training-Accuracy = 0.728409081697464 Validation-Accuracy = 0.8823529411764706\n",
      "Epoch [ 497 / 500 ] Training-Loss = 0.2708 Training-Accuracy = 0.7291662096977234 Validation-Accuracy = 0.8823529411764706\n",
      "Epoch [ 498 / 500 ] Training-Loss = 0.2702 Training-Accuracy = 0.7298372089862823 Validation-Accuracy = 0.8823529411764706\n",
      "Epoch [ 499 / 500 ] Training-Loss = 0.2696 Training-Accuracy = 0.7304380834102631 Validation-Accuracy = 0.8823529411764706\n",
      "Epoch [ 500 / 500 ] Training-Loss = 0.2690 Training-Accuracy = 0.7309593558311462 Validation-Accuracy = 0.8856209150326797\n"
     ]
    }
   ],
   "source": [
    "val_acc_list = []\n",
    "training_acc_list = []\n",
    "\n",
    "for epoch in range(n_epochs):\n",
    "\n",
    "    predicted = model(x_train).to(device)    \n",
    "\n",
    "    loss = lossfn(predicted,y_train)\n",
    "        \n",
    "    optimizer.zero_grad()\n",
    "    loss.backward()\n",
    "    \n",
    "    optimizer.step()\n",
    "    \n",
    "    val_acc = Validator(x_test, y_test.to(torch.int))\n",
    "    \n",
    "    print(f'Epoch [ {epoch+1} / {n_epochs} ] Training-Loss = {loss.item():.4f} Training-Accuracy = {1- loss.item()} Validation-Accuracy = {val_acc}')\n",
    "    \n",
    "    training_acc_list.append(1-loss.item())\n",
    "    val_acc_list.append(val_acc)"
   ]
  },
  {
   "cell_type": "code",
   "execution_count": 23,
   "metadata": {},
   "outputs": [
    {
     "name": "stdout",
     "output_type": "stream",
     "text": [
      "Maximum Training Accuracy =  0.7309593558311462\n",
      "Maximum Validation Accuracy =  0.8921568627450981\n"
     ]
    }
   ],
   "source": [
    "print(\"Maximum Training Accuracy = \", max(training_acc_list))\n",
    "print(\"Maximum Validation Accuracy = \", max(val_acc_list))"
   ]
  },
  {
   "cell_type": "code",
   "execution_count": null,
   "metadata": {},
   "outputs": [],
   "source": []
  }
 ],
 "metadata": {
  "kernelspec": {
   "display_name": "Python 3",
   "language": "python",
   "name": "python3"
  },
  "language_info": {
   "codemirror_mode": {
    "name": "ipython",
    "version": 3
   },
   "file_extension": ".py",
   "mimetype": "text/x-python",
   "name": "python",
   "nbconvert_exporter": "python",
   "pygments_lexer": "ipython3",
   "version": "3.8.5"
  }
 },
 "nbformat": 4,
 "nbformat_minor": 4
}
